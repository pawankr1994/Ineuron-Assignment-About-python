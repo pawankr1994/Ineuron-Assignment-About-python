{
 "cells": [
  {
   "cell_type": "markdown",
   "id": "751c0890",
   "metadata": {},
   "source": [
    " ###### 1.  What are the two values of the Boolean data type? How do you write them?\n",
    "   Answer:\n",
    "  - It has two values and it is denoted as \"True\" and \"False\" ."
   ]
  },
  {
   "cell_type": "markdown",
   "id": "e684c672",
   "metadata": {},
   "source": [
    "##### 2. What are the three different types of Boolean operators?\n",
    "  Answer:\n",
    " - A boolean represents an idea of \"True\" and \"False\". There are three logical operator \"AND\" \"OR\" \"NOT\""
   ]
  },
  {
   "cell_type": "markdown",
   "id": "08b5385a",
   "metadata": {},
   "source": [
    "######  3.    Make a list of each Boolean operator's truth tables(i.e. every possible combination of Boolean values for the operator and what it evaluate).\n",
    "Answer:\n",
    " - A Truth Table is a small table that allows us, to give the results for the logical operators.\n",
    "  ###### AND Table:\n",
    "     a_______b_______a and b\n",
    "     \n",
    "     False___False____False\n",
    "     \n",
    "     True____True_____True\n",
    "     \n",
    "     True____False____False\n",
    "     \n",
    "     False___True_____False\n",
    "     \n",
    " ##### OR Table:\n",
    "     a_____b______a or b\n",
    "     \n",
    "     True__False__True\n",
    "     \n",
    "     Fase__True___True\n",
    "     \n",
    "     True__True___True\n",
    "     \n",
    "     False_False__False\n",
    "     \n",
    " ##### NOT Table:\n",
    "    a______NOT a\n",
    "    \n",
    "    True___False\n",
    "    \n",
    "    False__True\n",
    "     "
   ]
  },
  {
   "cell_type": "markdown",
   "id": "4f4446b1",
   "metadata": {},
   "source": [
    "##### 4. What are the values of the following expressions?\n",
    "\n",
    "   - (a). (5 > 4) and (3 == 5)\n",
    "   - (b). not (5 > 4)\n",
    "   - (c). (5 > 4) or (3 == 5)\n",
    "   - (d). not ((5 > 4) or (3 == 5))\n",
    "   - (e). (True and True) and (True == False)\n",
    "   - (f). (not False) or (not True)\n",
    "   \n",
    "   \n",
    " Answer:\n",
    " \n",
    "   (a)  False.\n",
    "   \n",
    "   (b)  False.\n",
    "   \n",
    "   (c)  True.\n",
    "   \n",
    "   (d)  False.\n",
    "   \n",
    "   (e)  False.\n",
    "   \n",
    "   (f)  True."
   ]
  },
  {
   "cell_type": "markdown",
   "id": "85e76e62",
   "metadata": {},
   "source": [
    "##### 5. What are the six comparison operators?\n",
    "\n",
    "Answer: \n",
    " - Less than ( < )\n",
    " - Less than or equal to ( <= )\n",
    " - Greater than ( > )\n",
    " - Greater than or equal to ( >= )\n",
    " - Equal to ( == )\n",
    " - Not equal to ( != )"
   ]
  },
  {
   "cell_type": "markdown",
   "id": "1d9bdb7d",
   "metadata": {},
   "source": [
    "#### 6. How do you tell the difference between the equal to and assignment operators? Describe a condition and when you would use one.\n",
    "\n",
    " Answer: \n",
    "  - The “=” is an assignment operator is used to assign the value on the right to the variable on the left.\n",
    "    The '==' operator checks whether the two given operands are equal or not.\n",
    "  \n",
    "  - Example: if we have to assign value or we have to store the value in a variable we use as ( X = 5)\n",
    "     and if we have to check x is equal to 5 or not then we write as ( X == 5)"
   ]
  },
  {
   "cell_type": "markdown",
   "id": "3547fbe6",
   "metadata": {},
   "source": [
    "#### 7. Identify the three blocks in this code:\n",
    "spam = 0\n",
    "\n",
    "if spam == 10:\n",
    "\n",
    "print('eggs')\n",
    "\n",
    "if spam > 5:\n",
    "\n",
    "print('bacon')\n",
    "\n",
    "else:\n",
    "\n",
    "print('ham')\n",
    "\n",
    "print('spam')\n",
    "\n",
    "print('spam')"
   ]
  },
  {
   "cell_type": "code",
   "execution_count": 1,
   "id": "18c84bc8",
   "metadata": {},
   "outputs": [
    {
     "name": "stdout",
     "output_type": "stream",
     "text": [
      "ham\n",
      "spam\n",
      "spam\n"
     ]
    }
   ],
   "source": [
    "spam = 0\n",
    "\n",
    "if spam == 10:\n",
    "    print('eggs')\n",
    "if spam > 5:\n",
    "    print('bacon')\n",
    "else:\n",
    "    print('ham')\n",
    "    print('spam')\n",
    "    print('spam')"
   ]
  },
  {
   "cell_type": "markdown",
   "id": "ebf5312c",
   "metadata": {},
   "source": [
    "#### 8. Write code that prints Hello if 1 is stored in spam, prints Howdy if 2 is stored in spam, and prints Greetings! if anything else is stored in spam."
   ]
  },
  {
   "cell_type": "code",
   "execution_count": 10,
   "id": "7f4e638f",
   "metadata": {},
   "outputs": [
    {
     "name": "stdout",
     "output_type": "stream",
     "text": [
      "enter the number 1 or 2 or any other number : 5\n",
      "Greetings\n"
     ]
    }
   ],
   "source": [
    "spam = int(input(\"enter the number 1 or 2 or any other number : \"))\n",
    "if spam == 1:\n",
    "    print(\"Hello\")\n",
    "elif spam == 2:\n",
    "    print(\"How is your Day\")\n",
    "else:\n",
    "    print(\"Greetings\")"
   ]
  },
  {
   "cell_type": "markdown",
   "id": "e1e439b6",
   "metadata": {},
   "source": [
    "##### 9.If your programme is stuck in an endless loop, what keys you’ll press?\n",
    "- Answer :\n",
    " if programme is stuck in an endless loop we use \"restart kernal\" key or we use \"break\" keyword in programme or we use \"CTRL + C\""
   ]
  },
  {
   "cell_type": "markdown",
   "id": "7bd214be",
   "metadata": {},
   "source": [
    "##### 10. How can you tell the difference between break and continue?\n",
    "\n",
    "- Answer:\n",
    "\n",
    "   * Break terminates the remaining iterations.\n",
    "   \n",
    "   * Continue doesn't terminate the next iterations, it resumes with the successive iterations."
   ]
  },
  {
   "cell_type": "markdown",
   "id": "f27b1324",
   "metadata": {},
   "source": [
    "#### 11. In a for loop, what is the difference between range(10), range(0, 10), and range(0, 10, 1)?\n"
   ]
  },
  {
   "cell_type": "code",
   "execution_count": 2,
   "id": "2f65a8da",
   "metadata": {},
   "outputs": [
    {
     "name": "stdout",
     "output_type": "stream",
     "text": [
      "0 1 2 3 4 5 6 7 8 9 "
     ]
    }
   ],
   "source": [
    "for i in range(10):\n",
    "    print(i, end = ' ')"
   ]
  },
  {
   "cell_type": "code",
   "execution_count": 3,
   "id": "3bda75e8",
   "metadata": {},
   "outputs": [
    {
     "name": "stdout",
     "output_type": "stream",
     "text": [
      "0 1 2 3 4 5 6 7 8 9 "
     ]
    }
   ],
   "source": [
    "for i in range(0, 10):\n",
    "    print(i, end = ' ')"
   ]
  },
  {
   "cell_type": "code",
   "execution_count": 4,
   "id": "6489e941",
   "metadata": {},
   "outputs": [
    {
     "name": "stdout",
     "output_type": "stream",
     "text": [
      "1 2 3 4 5 6 7 8 9 "
     ]
    }
   ],
   "source": [
    "for i in range(1, 10):\n",
    "    print(i, end = ' ') # iteration start with 1"
   ]
  },
  {
   "cell_type": "code",
   "execution_count": 5,
   "id": "5df83c26",
   "metadata": {},
   "outputs": [
    {
     "name": "stdout",
     "output_type": "stream",
     "text": [
      "0 1 2 3 4 5 6 7 8 9 "
     ]
    }
   ],
   "source": [
    "for i in range(0, 10, 1):\n",
    "    print(i, end = ' ') # iteration start with 1 and it has step size 1"
   ]
  },
  {
   "cell_type": "markdown",
   "id": "6ad9fcfd",
   "metadata": {},
   "source": [
    "#### 12.  Write a short program that prints the numbers 1 to 10 using a for loop. Then write an equivalent program that prints the numbers 1 to 10 using a while loop."
   ]
  },
  {
   "cell_type": "code",
   "execution_count": 7,
   "id": "2927d50b",
   "metadata": {},
   "outputs": [
    {
     "name": "stdout",
     "output_type": "stream",
     "text": [
      "1 2 3 4 5 6 7 8 9 10 "
     ]
    }
   ],
   "source": [
    "for i in range(1,11):\n",
    "    print(i, end = \" \")"
   ]
  },
  {
   "cell_type": "code",
   "execution_count": 2,
   "id": "84996ad2",
   "metadata": {},
   "outputs": [
    {
     "name": "stdout",
     "output_type": "stream",
     "text": [
      "1 2 3 4 5 6 7 8 9 10 "
     ]
    }
   ],
   "source": [
    "n = 1\n",
    "while n <= 10:\n",
    "    print(n, end = ' ')\n",
    "    n = n + 1"
   ]
  },
  {
   "cell_type": "markdown",
   "id": "2a40ce79",
   "metadata": {},
   "source": [
    "#### 13. If you had a function named bacon() inside a module named spam, how would you call it after importing spam?"
   ]
  },
  {
   "cell_type": "markdown",
   "id": "b8f8989d",
   "metadata": {},
   "source": [
    " Answer: \n",
    "\n",
    "- from spam import bacon\n",
    "\n",
    "or \n",
    "\n",
    "- spam.bacon()"
   ]
  },
  {
   "cell_type": "code",
   "execution_count": null,
   "id": "647e4818",
   "metadata": {},
   "outputs": [],
   "source": []
  }
 ],
 "metadata": {
  "kernelspec": {
   "display_name": "Python 3 (ipykernel)",
   "language": "python",
   "name": "python3"
  },
  "language_info": {
   "codemirror_mode": {
    "name": "ipython",
    "version": 3
   },
   "file_extension": ".py",
   "mimetype": "text/x-python",
   "name": "python",
   "nbconvert_exporter": "python",
   "pygments_lexer": "ipython3",
   "version": "3.9.7"
  }
 },
 "nbformat": 4,
 "nbformat_minor": 5
}
