{
 "cells": [
  {
   "cell_type": "markdown",
   "id": "e8927102",
   "metadata": {},
   "source": [
    "##### Question 2: -\n",
    "\n",
    "Consider a string to be valid if all characters of the string appear the same number of times. It is also valid if\n",
    "he can remove just one character at the index in the string, and the remaining characters will occur the same\n",
    "number of times. Given a string, determine if it is valid. If so, return YES , otherwise return NO .\n",
    "\n",
    "Note - You have to write at least 2 additional test cases in which your program will run successfully and provide\n",
    "an explanation for the same.\n",
    "\n",
    "Example input 1 - s = “abc”. This is a valid string because frequencies are { “a”: 1, “b”: 1, “c”: 1 }\n",
    "\n",
    "Example output 1- YES\n",
    "\n",
    "Example input 2 - s “abcc”. This string is not valid as we can remove only 1 occurrence of “c”. That leaves\n",
    "character frequencies of { “a”: 1, “b”: 1 , “c”: 2 }\n",
    "\n",
    "Example output 2 - NO\n"
   ]
  },
  {
   "cell_type": "code",
   "execution_count": 1,
   "id": "ac0cb7ef",
   "metadata": {},
   "outputs": [],
   "source": [
    "def is_valid_string(string):\n",
    "    # Count the frequencies of each character\n",
    "    char_count = {}\n",
    "    for char in string:\n",
    "        char_count[char] = char_count.get(char, 0) + 1\n",
    "\n",
    "    # Count the frequencies of frequencies\n",
    "    freq_count = {}\n",
    "    for count in char_count.values():\n",
    "        freq_count[count] = freq_count.get(count, 0) + 1\n",
    "\n",
    "    # If there is only one frequency or all frequencies are the same, it's valid\n",
    "    if len(freq_count) == 1:\n",
    "        return \"YES\"\n",
    "    elif len(freq_count) == 2:\n",
    "        # Check if we can remove one character to make it valid\n",
    "        freq1, freq2 = freq_count.keys()\n",
    "        if (freq_count[freq1] == 1 and freq1 == 1) or (freq_count[freq2] == 1 and freq2 == 1):\n",
    "            return \"YES\"\n",
    "    return \"NO\"\n",
    "\n"
   ]
  },
  {
   "cell_type": "code",
   "execution_count": 2,
   "id": "05412b73",
   "metadata": {},
   "outputs": [
    {
     "name": "stdout",
     "output_type": "stream",
     "text": [
      "YES\n"
     ]
    }
   ],
   "source": [
    "s = \"aabbcc\"\n",
    "\n",
    "print(is_valid_string(s))"
   ]
  },
  {
   "cell_type": "code",
   "execution_count": 10,
   "id": "5741fd46",
   "metadata": {},
   "outputs": [
    {
     "name": "stdout",
     "output_type": "stream",
     "text": [
      "YES\n"
     ]
    }
   ],
   "source": [
    "s = \"aabbc\"\n",
    "# The frequencies are: {\"a\": 2, \"b\": 2, \"c\": 1}\n",
    "# If we remove one occurrence of 'a', the frequencies will be: {\"a\": 1, \"b\": 2, \"c\": 1}\n",
    "# All characters appear the same number of times, so the string is valid.\n",
    "print(is_valid_string(s))"
   ]
  },
  {
   "cell_type": "code",
   "execution_count": null,
   "id": "88a41ce4",
   "metadata": {},
   "outputs": [],
   "source": []
  }
 ],
 "metadata": {
  "kernelspec": {
   "display_name": "Python 3 (ipykernel)",
   "language": "python",
   "name": "python3"
  },
  "language_info": {
   "codemirror_mode": {
    "name": "ipython",
    "version": 3
   },
   "file_extension": ".py",
   "mimetype": "text/x-python",
   "name": "python",
   "nbconvert_exporter": "python",
   "pygments_lexer": "ipython3",
   "version": "3.9.7"
  }
 },
 "nbformat": 4,
 "nbformat_minor": 5
}
