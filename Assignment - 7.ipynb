{
 "cells": [
  {
   "cell_type": "markdown",
   "id": "3f6e564d",
   "metadata": {},
   "source": [
    "####  1. What is the name of the feature responsible for generating Regex objects?"
   ]
  },
  {
   "cell_type": "markdown",
   "id": "6430bf78",
   "metadata": {},
   "source": [
    "##### Answer:\n",
    "\n",
    "- The re.compile() function returns Regex object"
   ]
  },
  {
   "cell_type": "markdown",
   "id": "7fd0ebbd",
   "metadata": {},
   "source": [
    "#### 2. Why do raw strings often appear in Regex objects?"
   ]
  },
  {
   "cell_type": "markdown",
   "id": "91a2d59d",
   "metadata": {},
   "source": [
    "##### Answer:\n",
    "\n",
    "_  Raw strings are used so that backslashes do not have to be escaped\n",
    "- Both string and bytes literals may optionally be prefixed with a letter 'r' or 'R'; such strings are called raw strings and treat backslashes as literal characters. As a result, in string literals, '\\U' and '\\u' escapes in raw strings are not treated specially"
   ]
  },
  {
   "cell_type": "markdown",
   "id": "22d94c58",
   "metadata": {},
   "source": [
    "#### 3. What is the return value of the search() method?"
   ]
  },
  {
   "cell_type": "markdown",
   "id": "2d5ddd6f",
   "metadata": {},
   "source": [
    "##### Answer:\n",
    "\n",
    "The re.search() function will search the regular expression pattern and return the first occurrence. Unlike Python re. match(), it will check all lines of the input string. If the pattern is found, the match object will be returned, otherwise “null” is returned."
   ]
  },
  {
   "cell_type": "markdown",
   "id": "f3a78361",
   "metadata": {},
   "source": [
    "#### 4. From a Match item, how do you get the actual strings that match the pattern?"
   ]
  },
  {
   "cell_type": "markdown",
   "id": "c23c8c2d",
   "metadata": {},
   "source": [
    "##### Answer:\n",
    "\n",
    "Match objects have a group() method that will return the actual matched text from the searched string"
   ]
  },
  {
   "cell_type": "markdown",
   "id": "5171fe58",
   "metadata": {},
   "source": [
    "#### 5. In the regex which created from the r'(\\d\\d\\d)-(\\d\\d\\d-\\d\\d\\d\\d)', what does group zero cover? Group 2? Group 1?"
   ]
  },
  {
   "cell_type": "markdown",
   "id": "618c6a7f",
   "metadata": {},
   "source": [
    "##### Answer:\n",
    "Group 0 cover the entire match, group 1 covers the first set of parentheses, and group 2 covers the second set of parentheses"
   ]
  },
  {
   "cell_type": "markdown",
   "id": "cc923f1a",
   "metadata": {},
   "source": [
    "#### 6. In standard expression syntax, parentheses and intervals have distinct meanings. How can you tell a regex that you want it to fit real parentheses and periods?"
   ]
  },
  {
   "cell_type": "markdown",
   "id": "e199abb5",
   "metadata": {},
   "source": [
    "##### Answer:"
   ]
  },
  {
   "cell_type": "markdown",
   "id": "6386d400",
   "metadata": {},
   "source": [
    "- Periods and parentheses can be escaped with a backslash: \\., \\(, and \\)."
   ]
  },
  {
   "cell_type": "markdown",
   "id": "a78ebde5",
   "metadata": {},
   "source": [
    "#### 7. The findall() method returns a string list or a list of string tuples. What causes it to return one of the two options?"
   ]
  },
  {
   "cell_type": "markdown",
   "id": "3f8a3d5c",
   "metadata": {},
   "source": [
    "##### Answer:\n",
    "\n",
    "If the regex has no groups, a list of strings is returned. If the regex has groups, a list of tuples of strings is returned.\n",
    "\n"
   ]
  },
  {
   "cell_type": "markdown",
   "id": "fa19a09f",
   "metadata": {},
   "source": [
    "#### 8. In standard expressions, what does the | character mean?"
   ]
  },
  {
   "cell_type": "markdown",
   "id": "9f9e0d65",
   "metadata": {},
   "source": [
    "##### Answer:\n",
    "\n",
    "The | character signifies matching “either, or” between two groups."
   ]
  },
  {
   "cell_type": "markdown",
   "id": "c31ec720",
   "metadata": {},
   "source": [
    "####  9. In regular expressions, what does the character stand for?"
   ]
  },
  {
   "cell_type": "markdown",
   "id": "285a0280",
   "metadata": {},
   "source": [
    "##### Answer:\n",
    "\n",
    "All characters, except those having special meaning in regex, matches themselves. E.g., the regex x matches substring \"x\" ; regex 9 matches \"9\" ; regex = matches \"=\" ; and regex @ matches \"@\" ."
   ]
  },
  {
   "cell_type": "markdown",
   "id": "d3443bef",
   "metadata": {},
   "source": [
    "#### 10.In regular expressions, what is the difference between the + and * characters?"
   ]
  },
  {
   "cell_type": "markdown",
   "id": "35d008ae",
   "metadata": {},
   "source": [
    "##### Answer:\n",
    "\n",
    "The + matches one or more. The * matches zero or more."
   ]
  },
  {
   "cell_type": "markdown",
   "id": "2d20f90d",
   "metadata": {},
   "source": [
    "#### 11. What is the difference between {4} and {4,5} in regular expression?"
   ]
  },
  {
   "cell_type": "markdown",
   "id": "08de315e",
   "metadata": {},
   "source": [
    "##### Answer:\n",
    "\n",
    "The {4} matches exactly three instances of the preceding group. The {4,5} matches between four and five instances."
   ]
  },
  {
   "cell_type": "markdown",
   "id": "ea53e0c8",
   "metadata": {},
   "source": [
    "\n",
    "#### 12. What do you mean by the \\d, \\w, and \\s shorthand character classes signify in regular expressions?"
   ]
  },
  {
   "cell_type": "markdown",
   "id": "9efb74ac",
   "metadata": {},
   "source": [
    "##### Answer: \n",
    "\n",
    "- \\w:  This is the \"word character\" class that represents the regex range [A-Za-z0-9_], and it will match a single uppercase character, lower-case character, digit, or underscore\n",
    "\n",
    "\n",
    "- \\d: This is the \"digit character\" class represents the regex range [0-9], and it will match the single-digit character\n",
    "\n",
    "\n",
    "- \\s: This is the \"whitespace character\" class that represents the regex range, matching a single space, carriage return, tab, line break, form feed, or vertical tab"
   ]
  },
  {
   "cell_type": "markdown",
   "id": "6729a896",
   "metadata": {},
   "source": [
    "##### 13. What do means by \\D, \\W, and \\S shorthand character classes signify in regular expressions?"
   ]
  },
  {
   "cell_type": "markdown",
   "id": "552c4bd5",
   "metadata": {},
   "source": [
    "##### Answer:\n",
    "\n",
    "The \\D, \\W, and \\S shorthand character classes match a single character that is not a digit, word, or space character, respectively.\n",
    "\n"
   ]
  },
  {
   "cell_type": "markdown",
   "id": "5d24692d",
   "metadata": {},
   "source": [
    "#### 14. What is the difference between .* ? and .* ?"
   ]
  },
  {
   "cell_type": "markdown",
   "id": "30ca37af",
   "metadata": {},
   "source": [
    "##### Answer;\n",
    "\n",
    "Ans: The .* performs a greedy match, and the .*? performs a nongreedy match."
   ]
  },
  {
   "cell_type": "markdown",
   "id": "8d816655",
   "metadata": {},
   "source": [
    "#### 15. What is the syntax for matching both numbers and lowercase letters with a character class?"
   ]
  },
  {
   "cell_type": "markdown",
   "id": "a86fba22",
   "metadata": {},
   "source": [
    "##### Answer:\n",
    "\n",
    "the character class [a-zA-Z0-9] will match all lowercase letters, uppercase letters, and numbers."
   ]
  },
  {
   "cell_type": "markdown",
   "id": "a7311e60",
   "metadata": {},
   "source": [
    "#### 16. What is the procedure for making a normal expression in regax case insensitive?"
   ]
  },
  {
   "cell_type": "markdown",
   "id": "9799ef5c",
   "metadata": {},
   "source": [
    "##### Answer:\n",
    "The re.IGNORECASE is used as a flag to enable case insensitive searching within a text. It will consider the characters [A-Z] the same as [a-z] for a string."
   ]
  },
  {
   "cell_type": "markdown",
   "id": "a163d48d",
   "metadata": {},
   "source": [
    "#### 17. What does the . character normally match? What does it match if re.DOTALL is passed as 2nd argument in re.compile()?"
   ]
  },
  {
   "cell_type": "markdown",
   "id": "522c0c09",
   "metadata": {},
   "source": [
    "##### Answer:\n",
    "\n",
    "character normally matches any character except the newline character. If re. DOTALL is passed as the second argument to re. compile() , then the dot will also match newline characters."
   ]
  },
  {
   "cell_type": "markdown",
   "id": "23bdc8b4",
   "metadata": {},
   "source": [
    "#### 18. If numReg = re.compile(r'\\d+'), what will numRegex.sub('X', '11 drummers, 10 pipers, five rings, 4 hen') return?"
   ]
  },
  {
   "cell_type": "markdown",
   "id": "bd9b1898",
   "metadata": {},
   "source": [
    "##### Answer\n",
    "\n",
    "'X drummers, X pipers, five rings, X hens'"
   ]
  },
  {
   "cell_type": "markdown",
   "id": "1e59f2fd",
   "metadata": {},
   "source": [
    "#### 19. What does passing re.VERBOSE as the 2nd argument to re.compile() allow to do?"
   ]
  },
  {
   "cell_type": "markdown",
   "id": "f76647ef",
   "metadata": {},
   "source": [
    "##### Answer:\n",
    " The re.VERBOSE argument allows you to add whitespace and comments to the string passed to re.compile()"
   ]
  },
  {
   "cell_type": "markdown",
   "id": "bc7604e6",
   "metadata": {},
   "source": [
    "#### 20.  How would you write a regex that match a number with comma for every three digits? It must match the given following:\n",
    "\n",
    "\n",
    "#### '42'\n",
    "\n",
    "#### '1,234'\n",
    "\n",
    "#### '6,368,745'\n",
    "\n",
    "#### but not the following:\n",
    "\n",
    "#### '12,34,567' (which has only two digits between the commas)\n",
    "\n",
    "#### '1234' (which lacks commas)"
   ]
  },
  {
   "cell_type": "markdown",
   "id": "25fdb2b3",
   "metadata": {},
   "source": [
    "##### Answer:\n",
    " e.compile(r'^\\d{1,3}(,{3})*$') will create this regex, but other regex strings can produce a similar regular expression."
   ]
  },
  {
   "cell_type": "markdown",
   "id": "41226c32",
   "metadata": {},
   "source": [
    "#### 21. How would you write a regex that matches the full name of someone whose last name is Watanabe? You can assume that the first name that comes before it will always be one word that begins with a capital letter. The regex must match the following:\n",
    "\n",
    "'Haruto Watanabe'\n",
    "\n",
    "'Alice Watanabe'\n",
    "\n",
    "'RoboCop Watanabe'\n",
    "\n",
    "but not the following:\n",
    "\n",
    "'haruto Watanabe' (where the first name is not capitalized)\n",
    "\n",
    "'Mr. Watanabe' (where the preceding word has a nonletter character)\n",
    "\n",
    "'Watanabe' (which has no first name)\n",
    "\n",
    "'Haruto watanabe' (where Watanabe is not capitalized)"
   ]
  },
  {
   "cell_type": "markdown",
   "id": "2a1665a3",
   "metadata": {},
   "source": [
    "##### Answer:\n",
    "\n",
    "re.compile(r'[A-Z][a-z]*\\sWatanabe')"
   ]
  },
  {
   "cell_type": "markdown",
   "id": "f8e369c0",
   "metadata": {},
   "source": [
    "#### 22. How would you write a regex that matches a sentence where the first word is either Alice, Bob, or Carol; the second word is either eats, pets, or throws; the third word is apples, cats, or baseballs; and the sentence ends with a period? This regex should be case-insensitive. It must match the following:\n",
    "\n",
    "'Alice eats apples.'\n",
    "\n",
    "'Bob pets cats.'\n",
    "\n",
    "'Carol throws baseballs.'\n",
    "\n",
    "'Alice throws Apples.'\n",
    "\n",
    "'BOB EATS CATS.'\n",
    "\n",
    "but not the following:\n",
    "\n",
    "'RoboCop eats apples.'\n",
    "\n",
    "'ALICE THROWS FOOTBALLS.'\n",
    "\n",
    "'Carol eats 7 cats.'"
   ]
  },
  {
   "cell_type": "markdown",
   "id": "7612e3bd",
   "metadata": {},
   "source": [
    "##### Answer:\n",
    "re.compile(r'(Alice|Bob|Carol)\\s(eats|pets|throws)\\ s(apples|cats|baseballs)\\.', re.IGNORECASE)"
   ]
  },
  {
   "cell_type": "code",
   "execution_count": null,
   "id": "68a29456",
   "metadata": {},
   "outputs": [],
   "source": []
  }
 ],
 "metadata": {
  "kernelspec": {
   "display_name": "Python 3 (ipykernel)",
   "language": "python",
   "name": "python3"
  },
  "language_info": {
   "codemirror_mode": {
    "name": "ipython",
    "version": 3
   },
   "file_extension": ".py",
   "mimetype": "text/x-python",
   "name": "python",
   "nbconvert_exporter": "python",
   "pygments_lexer": "ipython3",
   "version": "3.9.7"
  }
 },
 "nbformat": 4,
 "nbformat_minor": 5
}
