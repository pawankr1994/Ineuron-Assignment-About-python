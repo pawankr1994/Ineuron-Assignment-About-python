{
 "cells": [
  {
   "cell_type": "markdown",
   "id": "e8927102",
   "metadata": {},
   "source": [
    "##### Question 3: -\n",
    "Write a program, which would download the data from the provided link, and then read the data and convert\n",
    "that into properly structured data and return it in Excel format.\n",
    "\n",
    "Note - Write comments wherever necessary explaining the code written.\n",
    "\n",
    "Link - https://raw.githubusercontent.com/Biuni/PokemonGO-Pokedex/master/pokedex.json\n",
    "\n",
    "- Data Attributes - \n",
    "\n",
    "id: Identification Number - int num: Number of the\n",
    "\n",
    "● Pokémon in the official Pokédex - int name: Pokémon name -\n",
    "\n",
    "● string img: URL to an image of this Pokémon - string type:\n",
    "\n",
    "● Pokémon type -string height: Pokémon height - float\n",
    "\n",
    "● weight: Pokémon weight - float candy: type of candy used to evolve Pokémon or\n",
    "given\n",
    "\n",
    "● when transferred - string candy_count: the amount of candies required to evolve\n",
    "- int\n",
    "\n",
    "● egg: Number of kilometers to travel to hatch the egg - float spawn_chance:\n",
    "\n",
    "● Percentage of spawn chance (NEW) - float avg_spawns: Number of this\n",
    "pokemon on 10.000 spawns (NEW) - int\n",
    "\n",
    "● spawn_time: Spawns most active at the time on this field. Spawn times are the same for all\n",
    "time zones and are expressed in local time. (NEW) - “minutes: seconds” multipliers:\n",
    "Multiplier of Combat Power (CP) for calculating the CP after evolution See below - list of int\n",
    "weakness: Types of\n",
    "\n",
    "● Pokémon this Pokémon is weak to - list of strings next_evolution: Number and Name of\n",
    "successive evolutions of Pokémon - list of dict prev_evolution: Number and Name of previous\n",
    "evolutions of Pokémon - - list of dict"
   ]
  },
  {
   "cell_type": "code",
   "execution_count": 14,
   "id": "ac0cb7ef",
   "metadata": {},
   "outputs": [],
   "source": [
    "!pip install requests pandas openpyxl --quiet"
   ]
  },
  {
   "cell_type": "code",
   "execution_count": 15,
   "id": "05412b73",
   "metadata": {},
   "outputs": [
    {
     "name": "stdout",
     "output_type": "stream",
     "text": [
      "An error occurred while downloading the data: HTTPSConnectionPool(host='raw.githubusercontent.com', port=443): Max retries exceeded with url: /Biuni/PokemonGO-Pokedex/master/pokedex.json (Caused by NewConnectionError('<urllib3.connection.HTTPSConnection object at 0x0000020EF476C340>: Failed to establish a new connection: [WinError 10060] A connection attempt failed because the connected party did not properly respond after a period of time, or established connection failed because connected host has failed to respond'))\n"
     ]
    }
   ],
   "source": [
    "import requests\n",
    "import pandas as pd\n",
    "\n",
    "def download_data(url):\n",
    "    try:\n",
    "        response = requests.get(url)\n",
    "        response.raise_for_status()  # Raising an exception for any HTTP errors\n",
    "        data = response.text\n",
    "        return data\n",
    "    except requests.exceptions.RequestException as e:\n",
    "        print(f\"An error occurred while downloading the data: {e}\")\n",
    "        return None\n",
    "\n",
    "def process_data(data):\n",
    "    if data is None:\n",
    "        return None\n",
    "\n",
    "    try:\n",
    "        # Process the data and convert it into a structured format\n",
    "        \n",
    "        df = pd.read_json(data)\n",
    "        return df\n",
    "    except pd.errors.ParserError as e:\n",
    "        print(f\"An error occurred while processing the data: {e}\")\n",
    "        return None\n",
    "\n",
    "def convert_to_excel(dataframe, output_file):\n",
    "    if dataframe is None:\n",
    "        return\n",
    "\n",
    "    try:\n",
    "        # Convert the processed data into Excel format and save it\n",
    "        dataframe.to_excel(output_file, index=False)\n",
    "        print(f\"The data has been successfully converted and saved to {output_file}\")\n",
    "    except Exception as e:\n",
    "        print(f\"An error occurred while converting the data to Excel: {e}\")\n",
    "\n",
    "# Example usage\n",
    "url = \" https://raw.githubusercontent.com/Biuni/PokemonGO-Pokedex/master/pokedex.json\"  \n",
    "output_file = \"pokedex.xlsx\"  \n",
    "\n",
    "# Download the data from the provided link\n",
    "data = download_data(url)\n",
    "\n",
    "# Process the data\n",
    "processed_data = process_data(data)\n",
    "\n",
    "# Convert and save the processed data into Excel format\n",
    "convert_to_excel(processed_data, output_file)\n"
   ]
  },
  {
   "cell_type": "code",
   "execution_count": null,
   "id": "41f4b24f",
   "metadata": {},
   "outputs": [],
   "source": []
  },
  {
   "cell_type": "code",
   "execution_count": null,
   "id": "5653df60",
   "metadata": {},
   "outputs": [],
   "source": []
  }
 ],
 "metadata": {
  "kernelspec": {
   "display_name": "Python 3 (ipykernel)",
   "language": "python",
   "name": "python3"
  },
  "language_info": {
   "codemirror_mode": {
    "name": "ipython",
    "version": 3
   },
   "file_extension": ".py",
   "mimetype": "text/x-python",
   "name": "python",
   "nbconvert_exporter": "python",
   "pygments_lexer": "ipython3",
   "version": "3.9.7"
  }
 },
 "nbformat": 4,
 "nbformat_minor": 5
}
