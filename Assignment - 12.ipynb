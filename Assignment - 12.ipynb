{
 "cells": [
  {
   "cell_type": "markdown",
   "id": "850078a1",
   "metadata": {},
   "source": [
    "#### 1. In what modes should the PdfFileReader() and PdfFileWriter() File objects will be opened?"
   ]
  },
  {
   "cell_type": "markdown",
   "id": "86409dcd",
   "metadata": {},
   "source": [
    "##### Answer:\n",
    "When working with the PdfFileReader() and PdfFileWriter() classes of the PyPDF2 library for Python, the File objects should be opened in binary mode ('rb' and 'wb', respectively).\n",
    "\n",
    "Here is an example of how to open a PDF file in binary mode using the PdfFileReader() class and PdfFileWriter()"
   ]
  },
  {
   "cell_type": "code",
   "execution_count": null,
   "id": "8a0c3c40",
   "metadata": {},
   "outputs": [],
   "source": [
    "## PdfFileReader\n",
    "\n",
    "from PyPDF2 import PdfFileReader\n",
    "\n",
    "with open('example.pdf', 'rb') as file:\n",
    "    pdf_reader = PdfFileReader(file)\n",
    "    # rest of the code here\n",
    "    \n",
    "    \n",
    "    \n",
    "\n",
    "## PdfFileWriter\n",
    "    \n",
    "from PyPDF2 import PdfFileWriter\n",
    "\n",
    "with open('example.pdf', 'rb') as input_file:\n",
    "    with open('output.pdf', 'wb') as output_file:\n",
    "        pdf_writer = PdfFileWriter()\n",
    "        pdf_writer.addPage(input_file.getPage(0))\n",
    "        pdf_writer.write(output_file)"
   ]
  },
  {
   "cell_type": "markdown",
   "id": "4c24750a",
   "metadata": {},
   "source": [
    "#### 2. From a PdfFileReader object, how do you get a Page object for page 5?"
   ]
  },
  {
   "cell_type": "markdown",
   "id": "4f42c7a8",
   "metadata": {},
   "source": [
    "##### Answer: \n",
    "\n",
    "o get a Page object for page 5 from a PdfFileReader object in PyPDF2, you can use the getPage() method of the PdfFileReader class, passing in the index of the page you want to retrieve (remembering that page numbers in PyPDF2 start at 0).\n",
    "\n",
    "here is an example:"
   ]
  },
  {
   "cell_type": "code",
   "execution_count": null,
   "id": "fd703dd5",
   "metadata": {},
   "outputs": [],
   "source": [
    "from PyPDF2 import PdfFileReader\n",
    "\n",
    "# Open the PDF file in binary mode\n",
    "with open('example.pdf', 'rb') as file:\n",
    "    # Create a PdfFileReader object\n",
    "    pdf_reader = PdfFileReader(file)\n",
    "    \n",
    "    # Get the Page object for page 5 (index 4)\n",
    "    page = pdf_reader.getPage(4)\n",
    "    \n",
    "    # For example, get the page's contents as text:\n",
    "    text = page.extractText()\n",
    "    print(text)\n"
   ]
  },
  {
   "cell_type": "markdown",
   "id": "0773b688",
   "metadata": {},
   "source": [
    "#### 3. What PdfFileReader variable stores the number of pages in the PDF document?"
   ]
  },
  {
   "cell_type": "markdown",
   "id": "eef98459",
   "metadata": {},
   "source": [
    "##### Answer:\n",
    "In PyPDF2, the number of pages in a PDF document can be obtained using the numPages attribute of a PdfFileReader object.\n",
    "example:"
   ]
  },
  {
   "cell_type": "code",
   "execution_count": null,
   "id": "43556d42",
   "metadata": {},
   "outputs": [],
   "source": [
    "from PyPDF2 import PdfFileReader\n",
    "\n",
    "# Open the PDF file in binary mode\n",
    "with open('example.pdf', 'rb') as file:\n",
    "    # Create a PdfFileReader object\n",
    "    pdf_reader = PdfFileReader(file)\n",
    "    \n",
    "    # Get the number of pages in the PDF document\n",
    "    num_pages = pdf_reader.numPages\n",
    "    \n",
    "    # Print the number of pages\n",
    "    print(f'The PDF document has {num_pages} pages.')\n"
   ]
  },
  {
   "cell_type": "markdown",
   "id": "fec1acc1",
   "metadata": {},
   "source": [
    "#### 4. If a PdfFileReader object’s PDF is encrypted with the password swordfish, what must you do before you can obtain Page objects from it?"
   ]
  },
  {
   "cell_type": "markdown",
   "id": "13821a37",
   "metadata": {},
   "source": [
    "##### Answer:\n",
    "If a PdfFileReader object's PDF is encrypted with a password, you must decrypt the PDF by calling the decrypt() method on the PdfFileReader object and passing in the password as a string. Only after the PDF has been decrypted can you obtain Page objects from it.\n",
    "\n",
    "Here's an example code "
   ]
  },
  {
   "cell_type": "code",
   "execution_count": null,
   "id": "95fe2617",
   "metadata": {},
   "outputs": [],
   "source": [
    "from PyPDF2 import PdfFileReader\n",
    "\n",
    "# Open the encrypted PDF file in binary mode\n",
    "with open('example.pdf', 'rb') as file:\n",
    "    \n",
    "    # Create a PdfFileReader object\n",
    "    pdf_reader = PdfFileReader(file)\n",
    "    \n",
    "    # Check if the PDF is encrypted\n",
    "    if pdf_reader.isEncrypted:\n",
    "        # Attempt to decrypt the PDF with the password 'swordfish'\n",
    "        if pdf_reader.decrypt('swordfish') != 1:\n",
    "            print('Unable to decrypt the PDF with the provided password.')\n",
    "        else:\n",
    "            # Get the Page object for page 1 (index 0)\n",
    "            page = pdf_reader.getPage(0)\n",
    "            # Do something with the Page object\n",
    "            text = page.extractText()\n",
    "            print(text)\n",
    "    else:\n",
    "        # Get the Page object for page 1 (index 0)\n",
    "        page = pdf_reader.getPage(0)\n",
    "        # Do something with the Page object\n",
    "        text = page.extractText()\n",
    "        print(text)\n"
   ]
  },
  {
   "cell_type": "markdown",
   "id": "d45e0af4",
   "metadata": {},
   "source": [
    "#### 5. What methods do you use to rotate a page?"
   ]
  },
  {
   "cell_type": "markdown",
   "id": "476c7429",
   "metadata": {},
   "source": [
    "#####  Answer:\n",
    "In PyPDF2, you can use the \"rotateClockwise()\" and \"rotateCounterClockwise()\" methods of the PageObject class to rotate a page clockwise or counterclockwise, respectively."
   ]
  },
  {
   "cell_type": "markdown",
   "id": "918c0b77",
   "metadata": {},
   "source": [
    "#### 6. What is the difference between a Run object and a Paragraph object?"
   ]
  },
  {
   "cell_type": "markdown",
   "id": "d030dfa1",
   "metadata": {},
   "source": [
    "##### Answer:\n",
    "A Paragraph object in python-docx represents a single paragraph in a Word document. It contains one or more Run objects and is separated from other Paragraph objects in the document by a paragraph mark (\\n). A Paragraph object can contain any number of Run objects with different formatting applied to them, such as font size, color, bold, italic, etc.\n",
    "\n",
    "A Run object, on the other hand, represents a contiguous run of text in a single font style within a Paragraph object. It can contain only one font type and size and a specific style applied to the text within that run"
   ]
  },
  {
   "cell_type": "code",
   "execution_count": null,
   "id": "57083a9f",
   "metadata": {},
   "outputs": [],
   "source": [
    "from docx import Document\n",
    "\n",
    "# Create a new Word document\n",
    "document = Document()\n",
    "\n",
    "# Add a paragraph with two runs\n",
    "paragraph = document.add_paragraph('This is a ')\n",
    "paragraph.add_run('bold')\n",
    "paragraph.add_run(' and ')\n",
    "paragraph.add_run('italic')\n",
    "paragraph.add_run(' text.')\n",
    "\n",
    "# Save the document\n",
    "document.save('example.docx')\n"
   ]
  },
  {
   "cell_type": "markdown",
   "id": "d690cb08",
   "metadata": {},
   "source": [
    "#### 7. How do you obtain a list of Paragraph objects for a Document object that’s stored in a variable named doc?"
   ]
  },
  {
   "cell_type": "markdown",
   "id": "cad2b3a3",
   "metadata": {},
   "source": [
    "##### Answer:\n",
    "To obtain a list of Paragraph objects for a Document object stored in a variable named doc using the python-docx library in Python, you can use the paragraphs property of the Document object. Here's an example:"
   ]
  },
  {
   "cell_type": "code",
   "execution_count": null,
   "id": "2a619c83",
   "metadata": {},
   "outputs": [],
   "source": [
    "from docx import Document\n",
    "\n",
    "# Open an existing Word document\n",
    "doc = Document('my_document.docx')\n",
    "\n",
    "# Get a list of Paragraph objects\n",
    "paragraphs = doc.paragraphs\n",
    "\n",
    "# Loop through the paragraphs and print their text\n",
    "for paragraph in paragraphs:\n",
    "    print(paragraph.text)\n"
   ]
  },
  {
   "cell_type": "markdown",
   "id": "80b7bdee",
   "metadata": {},
   "source": [
    "#### 8. What type of object has bold, underline, italic, strike, and outline variables?"
   ]
  },
  {
   "cell_type": "markdown",
   "id": "312850a1",
   "metadata": {},
   "source": [
    "##### Answer:\n",
    "In the python-docx library for Python, the Run object has bold, underline, italic, strike, and outline "
   ]
  },
  {
   "cell_type": "code",
   "execution_count": null,
   "id": "683d81c9",
   "metadata": {},
   "outputs": [],
   "source": [
    "from docx import Document\n",
    "\n",
    "# Create a new Word document\n",
    "document = Document()\n",
    "\n",
    "# Add a paragraph with a bold, underlined, italic, and strikethrough run\n",
    "paragraph = document.add_paragraph()\n",
    "run = paragraph.add_run('This text is bold, underlined, italic, and strikethrough.')\n",
    "run.bold = True\n",
    "run.underline = True\n",
    "run.italic = True\n",
    "run.strike = True\n",
    "\n",
    "# Save the document\n",
    "document.save('example.docx')\n"
   ]
  },
  {
   "cell_type": "markdown",
   "id": "19eeac37",
   "metadata": {},
   "source": [
    "#### 9. What is the difference between False, True, and None for the bold variable?"
   ]
  },
  {
   "cell_type": "markdown",
   "id": "7427bbb7",
   "metadata": {},
   "source": [
    "##### Answer:\n",
    "\n",
    "In python-docx, the bold variable of a Run object can be set to three different values: True, False, or None. Here's what each value means:\n",
    "\n",
    "- True: If the bold variable is set to True, the text in the Run object will be displayed in bold.\n",
    "- False: If the bold variable is set to False, the text in the Run object will not be displayed in bold.\n",
    "- None: If the bold variable is set to None (which is the default value), the Run object will inherit the bold setting from the parent style of the Paragraph object."
   ]
  },
  {
   "cell_type": "markdown",
   "id": "37776e86",
   "metadata": {},
   "source": [
    "#### 10. How do you create a Document object for a new Word document?"
   ]
  },
  {
   "cell_type": "markdown",
   "id": "28b4de2b",
   "metadata": {},
   "source": [
    "#####  Answer:\n"
   ]
  },
  {
   "cell_type": "code",
   "execution_count": null,
   "id": "577468df",
   "metadata": {},
   "outputs": [],
   "source": [
    "from docx import Document\n",
    "\n",
    "# Create a new Word document\n",
    "document = Document()\n",
    "\n",
    "# Add content to the document\n",
    "paragraph = document.add_paragraph('Hello, World!')\n",
    "document.add_page_break()\n",
    "\n",
    "# Save the document\n",
    "document.save('example.docx')\n"
   ]
  },
  {
   "cell_type": "markdown",
   "id": "213e74fa",
   "metadata": {},
   "source": [
    "#### 11. How do you add a paragraph with the text &#39;Hello, there!&#39; to a Document object stored in a variable named doc?"
   ]
  },
  {
   "cell_type": "markdown",
   "id": "4816754d",
   "metadata": {},
   "source": [
    "##### Answer:\n",
    "To add a paragraph with the text \"Hello, there!\" to a Document object stored in a variable named doc, you can use the add_paragraph() method "
   ]
  },
  {
   "cell_type": "code",
   "execution_count": null,
   "id": "8b288d09",
   "metadata": {},
   "outputs": [],
   "source": [
    "from docx import Document\n",
    "\n",
    "# Create a new Word document\n",
    "doc = Document()\n",
    "\n",
    "# Add a paragraph to the document\n",
    "paragraph = doc.add_paragraph('Hello, there!')\n",
    "\n",
    "# Save the document\n",
    "doc.save('example.docx')\n"
   ]
  },
  {
   "cell_type": "markdown",
   "id": "b0b67bd5",
   "metadata": {},
   "source": [
    "#### 12. What integers represent the levels of headings available in Word documents?"
   ]
  },
  {
   "cell_type": "markdown",
   "id": "6b845c26",
   "metadata": {},
   "source": [
    "##### Answer:\n",
    "These integers are used to specify the level of a heading when creating or modifying a Paragraph object using the add_heading() method of a Document object in the python-docx library."
   ]
  },
  {
   "cell_type": "code",
   "execution_count": null,
   "id": "8d639a85",
   "metadata": {},
   "outputs": [],
   "source": [
    "# Import docx NOT python-docx\n",
    "import docx\n",
    "\n",
    "# Create an instance of a word document\n",
    "doc = docx.Document()\n",
    "\n",
    "# Add a heading of level 0 (Also called Title)\n",
    "doc.add_heading('Title for the document', 0)\n",
    "\n",
    "# Add a heading of level 1\n",
    "doc.add_heading('Heading level 1', 1)\n",
    "\n",
    "# Add a heading of level 2\n",
    "doc.add_heading('Heading level 2', 2)\n",
    "\n",
    "# Add a heading of level 3\n",
    "doc.add_heading('Heading level 3', 3)\n",
    "\n",
    "# Add a heading of level 4\n",
    "doc.add_heading('Heading level 4', 4)\n",
    "\n",
    "# Add a heading of level 5\n",
    "doc.add_heading('Heading level 5', 5)\n",
    "\n",
    "# Add a heading of level 6\n",
    "doc.add_heading('Heading level 6', 6)\n",
    "\n",
    "# Add a heading of level 7\n",
    "doc.add_heading('Heading level 7', 7)\n",
    "\n",
    "# Add a heading of level 8\n",
    "doc.add_heading('Heading level 8', 8)\n",
    "\n",
    "# Add a heading of level 9\n",
    "doc.add_heading('Heading level 9', 9)\n",
    "\n",
    "# Now save the document to a location\n",
    "doc.save('gfg.docx')\n"
   ]
  }
 ],
 "metadata": {
  "kernelspec": {
   "display_name": "Python 3 (ipykernel)",
   "language": "python",
   "name": "python3"
  },
  "language_info": {
   "codemirror_mode": {
    "name": "ipython",
    "version": 3
   },
   "file_extension": ".py",
   "mimetype": "text/x-python",
   "name": "python",
   "nbconvert_exporter": "python",
   "pygments_lexer": "ipython3",
   "version": "3.9.7"
  }
 },
 "nbformat": 4,
 "nbformat_minor": 5
}
