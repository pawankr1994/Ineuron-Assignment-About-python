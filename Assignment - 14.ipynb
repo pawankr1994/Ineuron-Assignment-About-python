{
 "cells": [
  {
   "cell_type": "markdown",
   "id": "57fc1343",
   "metadata": {},
   "source": [
    "#### 1. What does RGBA stand for?"
   ]
  },
  {
   "cell_type": "markdown",
   "id": "4fbbf054",
   "metadata": {},
   "source": [
    "##### Answer:\n",
    "RGBA stands for Red Green Blue Alpha. It is a color model used in computer graphics and digital imaging to represent and display colors. The RGBA model extends the RGB model by adding an additional channel called the alpha channel, which represents the transparency or opacity of a color. The red, green, and blue channels define the color itself, while the alpha channel determines how transparent or opaque the color is"
   ]
  },
  {
   "cell_type": "markdown",
   "id": "e3a7c6c8",
   "metadata": {},
   "source": [
    "#### 2. From the Pillow module, how do you get the RGBA value of any images?"
   ]
  },
  {
   "cell_type": "markdown",
   "id": "b60da0de",
   "metadata": {},
   "source": [
    "##### Answer:\n"
   ]
  },
  {
   "cell_type": "code",
   "execution_count": 2,
   "id": "79ec3b35",
   "metadata": {},
   "outputs": [
    {
     "name": "stdout",
     "output_type": "stream",
     "text": [
      "<PIL.Image.Image image mode=RGBA size=802x602 at 0x258F7F31730>\n",
      "RGBA value: (170, 189, 222, 255)\n"
     ]
    }
   ],
   "source": [
    "from PIL import Image\n",
    "\n",
    "# Load the image\n",
    "image = Image.open(\"12919817_10154611321631416_7993614693573679690_n.jpg\")\n",
    "\n",
    "# Convert to RGBA mode\n",
    "image = image.convert(\"RGBA\")\n",
    "\n",
    "# Get the RGBA value of a pixel\n",
    "x = 100\n",
    "y = 200\n",
    "rgba = image.getpixel((x, y))\n",
    "\n",
    "print(\"RGBA value:\", rgba)\n"
   ]
  },
  {
   "cell_type": "markdown",
   "id": "b884cef6",
   "metadata": {},
   "source": [
    "#### 3. What is a box tuple, and how does it work?"
   ]
  },
  {
   "cell_type": "markdown",
   "id": "358ad807",
   "metadata": {},
   "source": [
    "##### Answer:\n",
    "\n",
    "a box tuple refers to a tuple that represents a rectangular region or box within an image. It is commonly used for defining the boundaries or coordinates of a specific region of interest within an image.\n",
    "\n",
    "The box tuple typically consists of four values: (left, upper, right, lower),"
   ]
  },
  {
   "cell_type": "markdown",
   "id": "c949aa61",
   "metadata": {},
   "source": [
    "#### 4. Use your image and load in notebook then, How can you find out the width and height of an Image object?"
   ]
  },
  {
   "cell_type": "code",
   "execution_count": 3,
   "id": "e067e191",
   "metadata": {},
   "outputs": [
    {
     "name": "stdout",
     "output_type": "stream",
     "text": [
      "Width: 802\n",
      "Height: 602\n"
     ]
    }
   ],
   "source": [
    "from PIL import Image\n",
    "\n",
    "# Load the image\n",
    "image = Image.open(\"12919817_10154611321631416_7993614693573679690_n.jpg\")\n",
    "\n",
    "# Get the width and height of the image\n",
    "width, height = image.size\n",
    "\n",
    "print(\"Width:\", width)\n",
    "print(\"Height:\", height)\n"
   ]
  },
  {
   "cell_type": "markdown",
   "id": "9ca5fa39",
   "metadata": {},
   "source": [
    "#### 5. What method would you call to get Image object for a 100×100 image, excluding the lower-left quarter of it?"
   ]
  },
  {
   "cell_type": "code",
   "execution_count": 5,
   "id": "d6c0ad4b",
   "metadata": {},
   "outputs": [],
   "source": [
    "from PIL import Image\n",
    "\n",
    "# Load the image\n",
    "image = Image.open(\"12919817_10154611321631416_7993614693573679690_n.jpg\")\n",
    "\n",
    "# Define the box tuple for the upper-right quarter\n",
    "box = (50, 0, 100, 50)\n",
    "\n",
    "# Crop the image using the box tuple\n",
    "cropped_image = image.crop(box)\n",
    "\n",
    "# Display or save the cropped image as needed\n",
    "cropped_image.show()\n"
   ]
  },
  {
   "cell_type": "markdown",
   "id": "934de37d",
   "metadata": {},
   "source": [
    "#### 6. After making changes to an Image object, how could you save it as an image file?"
   ]
  },
  {
   "cell_type": "markdown",
   "id": "510cb7ec",
   "metadata": {},
   "source": [
    "##### Answer:\n"
   ]
  },
  {
   "cell_type": "code",
   "execution_count": null,
   "id": "3b26e065",
   "metadata": {},
   "outputs": [],
   "source": [
    "from PIL import Image\n",
    "\n",
    "# Load the image\n",
    "image = Image.open(\"image.jpg\")\n",
    "\n",
    "# Make changes to the image (e.g., resize, crop, apply filters, etc.)\n",
    "\n",
    "# Save the modified image as a new file\n",
    "image.save(\"modified_image.jpg\")\n"
   ]
  },
  {
   "cell_type": "markdown",
   "id": "37a09ec8",
   "metadata": {},
   "source": [
    "#### 7. What module contains Pillow’s shape-drawing code?"
   ]
  },
  {
   "cell_type": "markdown",
   "id": "aee9ff2b",
   "metadata": {},
   "source": [
    "##### Answer:\n",
    "The module that contains Pillow's shape-drawing code is called ImageDraw. It is a module within the Pillow library that provides functionality for drawing shapes, lines, and text on Image objects"
   ]
  },
  {
   "cell_type": "code",
   "execution_count": null,
   "id": "431dc717",
   "metadata": {},
   "outputs": [],
   "source": [
    "from PIL import Image, ImageDraw\n",
    "\n",
    "# Load the image\n",
    "image = Image.open(\"image.jpg\")\n",
    "\n",
    "# Create an ImageDraw object\n",
    "draw = ImageDraw.Draw(image)\n",
    "\n",
    "# Use the drawing functions from ImageDraw to draw shapes\n",
    "draw.rectangle([(10, 10), (50, 50)], outline=\"red\", width=2)\n",
    "draw.line([(0, 0), (100, 100)], fill=\"blue\", width=1)\n",
    "\n",
    "# Save  the modified image\n",
    "image.save(\"modified_image.jpg\")\n"
   ]
  },
  {
   "cell_type": "markdown",
   "id": "20c6ddc8",
   "metadata": {},
   "source": [
    "#### 8. Image objects do not have drawing methods. What kind of object does? How do you get this kind of object?"
   ]
  },
  {
   "cell_type": "markdown",
   "id": "ffad9258",
   "metadata": {},
   "source": [
    "##### Answer:\n",
    "The correct object in Pillow that has drawing methods is the ImageDraw object.\n",
    "\n",
    "To get an ImageDraw object with drawing methods, you need to create it using the ''ImageDraw.Draw()'' function and pass the Image object as an argument"
   ]
  },
  {
   "cell_type": "code",
   "execution_count": null,
   "id": "3c54e75d",
   "metadata": {},
   "outputs": [],
   "source": []
  }
 ],
 "metadata": {
  "kernelspec": {
   "display_name": "Python 3 (ipykernel)",
   "language": "python",
   "name": "python3"
  },
  "language_info": {
   "codemirror_mode": {
    "name": "ipython",
    "version": 3
   },
   "file_extension": ".py",
   "mimetype": "text/x-python",
   "name": "python",
   "nbconvert_exporter": "python",
   "pygments_lexer": "ipython3",
   "version": "3.9.7"
  }
 },
 "nbformat": 4,
 "nbformat_minor": 5
}
