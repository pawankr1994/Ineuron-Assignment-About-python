{
 "cells": [
  {
   "cell_type": "markdown",
   "id": "006e467b",
   "metadata": {},
   "source": [
    "#### 1. How do you distinguish between shutil.copy() and shutil.copytree()?"
   ]
  },
  {
   "cell_type": "markdown",
   "id": "0dc5fa09",
   "metadata": {},
   "source": [
    "##### Answer:\n",
    "\n",
    "shutil. copy() will copy a single file, shutil. copytree() will copy an entire folder and every folder and file contained in it."
   ]
  },
  {
   "cell_type": "markdown",
   "id": "0dce675a",
   "metadata": {},
   "source": [
    "#### 2. What function is used to rename files??"
   ]
  },
  {
   "cell_type": "markdown",
   "id": "2df630eb",
   "metadata": {},
   "source": [
    "##### Answer:\n",
    "rename() mehod is used to rename file"
   ]
  },
  {
   "cell_type": "markdown",
   "id": "093ebc82",
   "metadata": {},
   "source": [
    "#### 3. What is the difference between the delete functions in the send2trash and shutil modules?"
   ]
  },
  {
   "cell_type": "markdown",
   "id": "f2bb4ef0",
   "metadata": {},
   "source": [
    "##### Answer:\n",
    "The send2trash functions will move a file or folder to the recycle bin, while shutil functions will permanently delete files and folders."
   ]
  },
  {
   "cell_type": "markdown",
   "id": "75c5c96c",
   "metadata": {},
   "source": [
    "#### 4 .ZipFile objects have a close() method just like File objects’ close() method. What ZipFile method is equivalent to File objects’ open() method?"
   ]
  },
  {
   "cell_type": "markdown",
   "id": "76c809e5",
   "metadata": {},
   "source": [
    "##### Answer:\n",
    "The zipfile.ZipFile() function is equivalent to the open() function; the first argument is the filename, and the second argument is the mode to open the ZIP file in (read, write, or append)."
   ]
  },
  {
   "cell_type": "markdown",
   "id": "14824892",
   "metadata": {},
   "source": [
    "#### 5. Create a programme that searches a folder tree for files with a certain file extension (such as .pdf or .jpg). Copy these files from whatever location they are in to a new folder."
   ]
  },
  {
   "cell_type": "markdown",
   "id": "31ea2e32",
   "metadata": {},
   "source": [
    "##### Answer:\n"
   ]
  },
  {
   "cell_type": "code",
   "execution_count": 1,
   "id": "4e0db949",
   "metadata": {},
   "outputs": [],
   "source": [
    "import os\n",
    "import shutil\n",
    "\n",
    "def find_files_with_extension(start_dir, extension):\n",
    "    \"\"\"Recursively find all files in the directory tree with the given extension.\"\"\"\n",
    "    files_with_extension = []\n",
    "    for dirpath, dirnames, filenames in os.walk(start_dir):\n",
    "        for filename in filenames:\n",
    "            if filename.endswith(extension):\n",
    "                files_with_extension.append(os.path.join(dirpath, filename))\n",
    "    return files_with_extension\n",
    "\n",
    "def copy_files_to_folder(files, dest_folder):\n",
    "    \"\"\"Copy a list of files to the given destination folder.\"\"\"\n",
    "    for file in files:\n",
    "        shutil.copy2(file, dest_folder)"
   ]
  },
  {
   "cell_type": "code",
   "execution_count": null,
   "id": "cd9322a1",
   "metadata": {},
   "outputs": [],
   "source": []
  }
 ],
 "metadata": {
  "kernelspec": {
   "display_name": "Python 3 (ipykernel)",
   "language": "python",
   "name": "python3"
  },
  "language_info": {
   "codemirror_mode": {
    "name": "ipython",
    "version": 3
   },
   "file_extension": ".py",
   "mimetype": "text/x-python",
   "name": "python",
   "nbconvert_exporter": "python",
   "pygments_lexer": "ipython3",
   "version": "3.9.7"
  }
 },
 "nbformat": 4,
 "nbformat_minor": 5
}
