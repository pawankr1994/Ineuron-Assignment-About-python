{
 "cells": [
  {
   "cell_type": "markdown",
   "id": "96488272",
   "metadata": {},
   "source": [
    "##### 1. What does an empty dictionary's code look like?"
   ]
  },
  {
   "cell_type": "markdown",
   "id": "f467adfe",
   "metadata": {},
   "source": [
    "##### Answer:\n",
    "\n",
    "- An empty pair of curly braces {} is an empty dictionary.\n",
    "  To create an empty dictionary, the dictionary should be set to {}.\n",
    "  This is shown in the code below.\n",
    "\n",
    "  items = {}\n",
    "\n",
    "  this is all that is required to create an empty dictionary in Python.\n"
   ]
  },
  {
   "cell_type": "markdown",
   "id": "c8256739",
   "metadata": {},
   "source": [
    "##### 2. What is the value of a dictionary value with the key 'foo' and the value 42?"
   ]
  },
  {
   "cell_type": "markdown",
   "id": "2a898ff2",
   "metadata": {},
   "source": [
    "##### Answer:\n",
    "\n",
    "- the value of a dictionary value with the key 'foo' and the value 42 is {'foo' : 42}"
   ]
  },
  {
   "cell_type": "markdown",
   "id": "b0076e4e",
   "metadata": {},
   "source": [
    "##### 3. What is the most significant distinction between a dictionary and a list?"
   ]
  },
  {
   "cell_type": "markdown",
   "id": "ecf4af56",
   "metadata": {},
   "source": [
    "##### Answer:\n",
    "\n",
    "- list is most powerful tool in Python. A single list may contain DataTypes like Integers, Strings, as well as Objects.\n",
    "  Lists are mutable and hence they can be altered even after their creation. here are list example:\n",
    "  \n",
    "  a = [1,3,4, \"pawan\", 2.0,]\n",
    "  \n",
    "  Whereas Dictionary is an unordered collection of data values, used to store data values like a map, which unlike other Data   \n",
    "  Types that hold only single value as an element, Dictionary holds key:value pair. Key-value is provided in the dictionary to \n",
    "  make it more optimized. Each key-value pair in a Dictionary is separated by a colon :, whereas each key is separated by a \n",
    "  ‘comma'\n",
    "  example:\n",
    "  \n",
    "  a = {'a' : 1, 'b' : 5, 'pawan' : 'kumar'}"
   ]
  },
  {
   "cell_type": "markdown",
   "id": "b546f99b",
   "metadata": {},
   "source": [
    "##### 4. What happens if you try to access spam['foo'] if spam is {'bar': 100}?"
   ]
  },
  {
   "cell_type": "markdown",
   "id": "63dbb2cc",
   "metadata": {},
   "source": [
    "##### Answer:"
   ]
  },
  {
   "cell_type": "code",
   "execution_count": 1,
   "id": "b8f757ba",
   "metadata": {},
   "outputs": [],
   "source": [
    "spam = {'bar': 100}"
   ]
  },
  {
   "cell_type": "code",
   "execution_count": 2,
   "id": "03bce5e5",
   "metadata": {},
   "outputs": [
    {
     "ename": "KeyError",
     "evalue": "'foo'",
     "output_type": "error",
     "traceback": [
      "\u001b[1;31m---------------------------------------------------------------------------\u001b[0m",
      "\u001b[1;31mKeyError\u001b[0m                                  Traceback (most recent call last)",
      "\u001b[1;32m~\\AppData\\Local\\Temp/ipykernel_8452/3999281786.py\u001b[0m in \u001b[0;36m<module>\u001b[1;34m\u001b[0m\n\u001b[1;32m----> 1\u001b[1;33m \u001b[0mspam\u001b[0m\u001b[1;33m[\u001b[0m\u001b[1;34m'foo'\u001b[0m\u001b[1;33m]\u001b[0m\u001b[1;33m\u001b[0m\u001b[1;33m\u001b[0m\u001b[0m\n\u001b[0m",
      "\u001b[1;31mKeyError\u001b[0m: 'foo'"
     ]
    }
   ],
   "source": [
    "spam['foo']"
   ]
  },
  {
   "cell_type": "markdown",
   "id": "e8b56768",
   "metadata": {},
   "source": [
    "it is showing key error"
   ]
  },
  {
   "cell_type": "markdown",
   "id": "efca58b5",
   "metadata": {},
   "source": [
    "#####  6. If a dictionary is stored in spam, what is the difference between the expressions 'cat' in spam and 'cat' in spam.values()?\n"
   ]
  },
  {
   "cell_type": "markdown",
   "id": "4e066333",
   "metadata": {},
   "source": [
    "##### Answer:\n",
    "\n",
    "'cat' in spam checks whether 'cat' exists as a key in spam,\n",
    "\n",
    "'cat' in spam.values() checks whether 'cat' is a value in spam.\n"
   ]
  },
  {
   "cell_type": "markdown",
   "id": "98c9750e",
   "metadata": {},
   "source": [
    "##### 7. What is a shortcut for the following code?\n",
    "     if 'color' not in spam:\n",
    "     spam['color'] = 'black'"
   ]
  },
  {
   "cell_type": "markdown",
   "id": "3e81f51d",
   "metadata": {},
   "source": [
    "##### Answer: \n"
   ]
  },
  {
   "cell_type": "code",
   "execution_count": null,
   "id": "2f3b831b",
   "metadata": {},
   "outputs": [],
   "source": [
    "if 'color' not in spam:\n",
    "    spam['color'] ='black'"
   ]
  },
  {
   "cell_type": "code",
   "execution_count": null,
   "id": "aad9e785",
   "metadata": {},
   "outputs": [],
   "source": [
    "## Shortcut:\n",
    "spam.setdefault('color','black')"
   ]
  },
  {
   "cell_type": "markdown",
   "id": "bf4d62d9",
   "metadata": {},
   "source": [
    "##### 8.  How do you 'pretty print' dictionary values using which module and function?"
   ]
  },
  {
   "cell_type": "markdown",
   "id": "f4e133a8",
   "metadata": {},
   "source": [
    "##### Answer: \n",
    "\"Prettyprint” is defined as a process where the source code or any other item is displayed in an attractively presentable way\n",
    "\n",
    "- The module used is the pprint module within which we have the pprint function of the same name. The function can be implemented to pretty-print the specific string or object.\n",
    "\n",
    "pprint.pprint(any_dictionary)\n"
   ]
  },
  {
   "cell_type": "code",
   "execution_count": null,
   "id": "695599b4",
   "metadata": {},
   "outputs": [],
   "source": []
  }
 ],
 "metadata": {
  "kernelspec": {
   "display_name": "Python 3 (ipykernel)",
   "language": "python",
   "name": "python3"
  },
  "language_info": {
   "codemirror_mode": {
    "name": "ipython",
    "version": 3
   },
   "file_extension": ".py",
   "mimetype": "text/x-python",
   "name": "python",
   "nbconvert_exporter": "python",
   "pygments_lexer": "ipython3",
   "version": "3.9.7"
  }
 },
 "nbformat": 4,
 "nbformat_minor": 5
}
