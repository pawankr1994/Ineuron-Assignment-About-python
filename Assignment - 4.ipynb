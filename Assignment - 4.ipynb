{
 "cells": [
  {
   "cell_type": "markdown",
   "id": "dd54aa04",
   "metadata": {},
   "source": [
    "####    1. What exactly is [ ]?"
   ]
  },
  {
   "cell_type": "markdown",
   "id": "26ee4bd2",
   "metadata": {},
   "source": [
    "#### Answer: \n",
    "    It is called as a List. it is the simplest containers that is an integral part of the Python language.\n",
    "    Lists need not be homogeneous. A single list may contain DataTypes like Integers, Strings, as well as Objects.\n",
    "    Lists are mutable, and hence, they can be altered even after their creation."
   ]
  },
  {
   "cell_type": "markdown",
   "id": "29b72226",
   "metadata": {},
   "source": [
    "#### 2. In a list of values stored in a variable called spam, how would you assign the value 'hello' as the third value? (Assume [2, 4, 6, 8, 10] are in spam.)"
   ]
  },
  {
   "cell_type": "code",
   "execution_count": 5,
   "id": "b50bdfca",
   "metadata": {},
   "outputs": [],
   "source": [
    "spam = [2,4,6,8,10]"
   ]
  },
  {
   "cell_type": "code",
   "execution_count": 6,
   "id": "40b9142a",
   "metadata": {},
   "outputs": [],
   "source": [
    "spam[2] = 'hello'"
   ]
  },
  {
   "cell_type": "code",
   "execution_count": 7,
   "id": "b445735b",
   "metadata": {},
   "outputs": [
    {
     "data": {
      "text/plain": [
       "[2, 4, 'hello', 8, 10]"
      ]
     },
     "execution_count": 7,
     "metadata": {},
     "output_type": "execute_result"
    }
   ],
   "source": [
    "spam"
   ]
  },
  {
   "cell_type": "markdown",
   "id": "5711088c",
   "metadata": {},
   "source": [
    "###### Let's pretend the spam includes the list ['a', 'b', 'c', 'd'] for the next three queries."
   ]
  },
  {
   "cell_type": "markdown",
   "id": "bff674ac",
   "metadata": {},
   "source": [
    "#### 3. What is the value of spam[int(int('3' * 2) / 11)]?"
   ]
  },
  {
   "cell_type": "code",
   "execution_count": 8,
   "id": "596f8da3",
   "metadata": {},
   "outputs": [],
   "source": [
    "spam = ['a', 'b', 'c', 'd']"
   ]
  },
  {
   "cell_type": "code",
   "execution_count": 9,
   "id": "490e9f42",
   "metadata": {},
   "outputs": [
    {
     "data": {
      "text/plain": [
       "'d'"
      ]
     },
     "execution_count": 9,
     "metadata": {},
     "output_type": "execute_result"
    }
   ],
   "source": [
    "spam[int(int('3' * 2) / 11)]"
   ]
  },
  {
   "cell_type": "markdown",
   "id": "a8eb3344",
   "metadata": {},
   "source": [
    "#### 4. What is the value of spam[-1]?"
   ]
  },
  {
   "cell_type": "code",
   "execution_count": 11,
   "id": "3ddc944e",
   "metadata": {},
   "outputs": [
    {
     "data": {
      "text/plain": [
       "'d'"
      ]
     },
     "execution_count": 11,
     "metadata": {},
     "output_type": "execute_result"
    }
   ],
   "source": [
    "spam[-1]"
   ]
  },
  {
   "cell_type": "markdown",
   "id": "0e2c3976",
   "metadata": {},
   "source": [
    "#### 5. What is the value of spam[:2]?"
   ]
  },
  {
   "cell_type": "code",
   "execution_count": 12,
   "id": "2a00798a",
   "metadata": {},
   "outputs": [
    {
     "data": {
      "text/plain": [
       "['a', 'b']"
      ]
     },
     "execution_count": 12,
     "metadata": {},
     "output_type": "execute_result"
    }
   ],
   "source": [
    "spam[:2]"
   ]
  },
  {
   "cell_type": "markdown",
   "id": "775c09e1",
   "metadata": {},
   "source": [
    "##### Let's pretend bacon has the list [3.14, 'cat', 11, 'cat', True] for the next three questions."
   ]
  },
  {
   "cell_type": "code",
   "execution_count": 13,
   "id": "ca9dce1f",
   "metadata": {},
   "outputs": [],
   "source": [
    "bacon = [3.14, 'cat', 11, 'cat', True]"
   ]
  },
  {
   "cell_type": "markdown",
   "id": "38e69892",
   "metadata": {},
   "source": [
    "#### 6. What is the value of bacon.index('cat')?"
   ]
  },
  {
   "cell_type": "code",
   "execution_count": 14,
   "id": "5e2fdc50",
   "metadata": {},
   "outputs": [
    {
     "data": {
      "text/plain": [
       "1"
      ]
     },
     "execution_count": 14,
     "metadata": {},
     "output_type": "execute_result"
    }
   ],
   "source": [
    "bacon.index('cat')"
   ]
  },
  {
   "cell_type": "markdown",
   "id": "b7e36b18",
   "metadata": {},
   "source": [
    "#### 7. How does bacon.append(99) change the look of the list value in bacon?"
   ]
  },
  {
   "cell_type": "code",
   "execution_count": 15,
   "id": "34656005",
   "metadata": {},
   "outputs": [],
   "source": [
    "bacon.append(99)"
   ]
  },
  {
   "cell_type": "code",
   "execution_count": 16,
   "id": "1b6db0af",
   "metadata": {},
   "outputs": [
    {
     "data": {
      "text/plain": [
       "[3.14, 'cat', 11, 'cat', True, 99]"
      ]
     },
     "execution_count": 16,
     "metadata": {},
     "output_type": "execute_result"
    }
   ],
   "source": [
    "bacon"
   ]
  },
  {
   "cell_type": "markdown",
   "id": "d39aefac",
   "metadata": {},
   "source": [
    "#### 8. How does bacon.remove('cat') change the look of the list in bacon?"
   ]
  },
  {
   "cell_type": "code",
   "execution_count": 17,
   "id": "d590ec0f",
   "metadata": {},
   "outputs": [],
   "source": [
    "bacon.remove('cat')"
   ]
  },
  {
   "cell_type": "code",
   "execution_count": 18,
   "id": "86224dd5",
   "metadata": {},
   "outputs": [
    {
     "data": {
      "text/plain": [
       "[3.14, 11, 'cat', True, 99]"
      ]
     },
     "execution_count": 18,
     "metadata": {},
     "output_type": "execute_result"
    }
   ],
   "source": [
    "bacon"
   ]
  },
  {
   "cell_type": "markdown",
   "id": "e45ea23f",
   "metadata": {},
   "source": [
    "#### 9. What are the list concatenation and list replication operators?"
   ]
  },
  {
   "cell_type": "markdown",
   "id": "b00e7e5b",
   "metadata": {},
   "source": [
    "#### Answer:\n",
    "   \n",
    "    List concatenation is an operation where the elements of one list are added at the end of another list.\n",
    "    The operator for list concatenation is +,\n",
    "    \n",
    "    The replication operator * repeats a list a given number of times."
   ]
  },
  {
   "cell_type": "markdown",
   "id": "13c911f0",
   "metadata": {},
   "source": [
    "#### 10. What is difference between the list methods append( ) and insert( )?"
   ]
  },
  {
   "cell_type": "markdown",
   "id": "1722bc4d",
   "metadata": {},
   "source": [
    "#### Answer:\n",
    "\n",
    "The difference between append() and insert() is that insert function allows us to add a specific element at a specified index of the list unlike append() where we can add the element only at end of the list."
   ]
  },
  {
   "cell_type": "markdown",
   "id": "9291b486",
   "metadata": {},
   "source": [
    "#### 11. What are the two methods for removing items from a list?"
   ]
  },
  {
   "cell_type": "markdown",
   "id": "aaf433a4",
   "metadata": {},
   "source": [
    "#### Answer:\n",
    "\n",
    "    remove()  : It helps to remove the very first given element matching from the list.\n",
    "   \n",
    "    pop()\t : This method removes an element from the list based on the index given."
   ]
  },
  {
   "cell_type": "markdown",
   "id": "c5240e6d",
   "metadata": {},
   "source": [
    "#### 12. Describe how list values and string values are identical."
   ]
  },
  {
   "cell_type": "markdown",
   "id": "d3b2f51c",
   "metadata": {},
   "source": [
    "#### Answer:\n",
    "\n",
    "    The similarity between Lists and Strings in Python is that both are sequences.\n",
    "    Both store value\n",
    "    Both have index"
   ]
  },
  {
   "cell_type": "markdown",
   "id": "8edfc9c1",
   "metadata": {},
   "source": [
    "#### 13. What's the difference between tuples and lists?"
   ]
  },
  {
   "cell_type": "markdown",
   "id": "5eab18cb",
   "metadata": {},
   "source": [
    "#### Answer:\n",
    "\n",
    "    The key difference between the tuples and lists is that while the tuples are immutable objects the lists are mutable.\n",
    "    It means that tuples cannot be changed while the lists can be modified."
   ]
  },
  {
   "cell_type": "markdown",
   "id": "93bdd168",
   "metadata": {},
   "source": [
    "#### 14. How do you type a tuple value that only contains the integer 42?"
   ]
  },
  {
   "cell_type": "markdown",
   "id": "82624c69",
   "metadata": {},
   "source": [
    "#### Answer:\n",
    "        a = (42,)"
   ]
  },
  {
   "cell_type": "markdown",
   "id": "44a48b77",
   "metadata": {},
   "source": [
    "#### 15. How do you get a list value's tuple form? How do you get a tuple value's list form?"
   ]
  },
  {
   "cell_type": "markdown",
   "id": "9fe5bfd5",
   "metadata": {},
   "source": [
    "#### Answer:\n",
    "      By using builtin function \"tuple()\" we get list value in tuple form and \n",
    "       By using builtin function \"list()\" we get tuple value in list form"
   ]
  },
  {
   "cell_type": "markdown",
   "id": "87e7d252",
   "metadata": {},
   "source": [
    "#### 16. Variables that &quot;contain&quot; list values are not necessarily lists themselves. Instead, what do they contain?"
   ]
  },
  {
   "cell_type": "markdown",
   "id": "424e5be5",
   "metadata": {},
   "source": [
    "#### Answer:\n",
    "     Variables will contain references to list values rather than list values themselves. \n",
    "     But for strings and integer values, variables simply contain the string or integer value."
   ]
  },
  {
   "cell_type": "markdown",
   "id": "073114c0",
   "metadata": {},
   "source": [
    "#### 17. How do you distinguish between copy.copy( ) and copy.deepcopy( )?"
   ]
  },
  {
   "cell_type": "markdown",
   "id": "5eedfe1e",
   "metadata": {},
   "source": [
    "#### Answer: \n",
    "\n",
    "        A shallow copy constructs a new compound object and then (to the extent possible) inserts references into it to the objects found in the original.\n",
    "\n",
    "    syntax: copy.copy(x)\n",
    "\n",
    "    Return a shallow copy of x.\n",
    "\n",
    "    A deep copy constructs a new compound object and then, recursively, inserts copies into it of the objects found in the original.\n",
    "\n",
    "    syntax: copy.deepcopy(x)\n",
    "\n",
    "    Return a deep copy of x."
   ]
  },
  {
   "cell_type": "code",
   "execution_count": null,
   "id": "644d8549",
   "metadata": {},
   "outputs": [],
   "source": []
  }
 ],
 "metadata": {
  "kernelspec": {
   "display_name": "Python 3 (ipykernel)",
   "language": "python",
   "name": "python3"
  },
  "language_info": {
   "codemirror_mode": {
    "name": "ipython",
    "version": 3
   },
   "file_extension": ".py",
   "mimetype": "text/x-python",
   "name": "python",
   "nbconvert_exporter": "python",
   "pygments_lexer": "ipython3",
   "version": "3.9.7"
  }
 },
 "nbformat": 4,
 "nbformat_minor": 5
}
