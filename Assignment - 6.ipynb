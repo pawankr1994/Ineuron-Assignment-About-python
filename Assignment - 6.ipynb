{
 "cells": [
  {
   "cell_type": "markdown",
   "id": "acf383fb",
   "metadata": {},
   "source": [
    "##### 1. What are escape characters, and how do you use them?"
   ]
  },
  {
   "cell_type": "markdown",
   "id": "acfa9a98",
   "metadata": {},
   "source": [
    "##### Answer:\n",
    "\n",
    "- To insert characters that are illegal in a string, use an escape character. An escape character is a backslash \\ followed by the character you want to insert.\n"
   ]
  },
  {
   "cell_type": "markdown",
   "id": "8f3c09f0",
   "metadata": {},
   "source": [
    "##### 2. What do the escape characters n and t stand for?"
   ]
  },
  {
   "cell_type": "markdown",
   "id": "540e0d3f",
   "metadata": {},
   "source": [
    "##### Answer:"
   ]
  },
  {
   "cell_type": "markdown",
   "id": "5b4171e5",
   "metadata": {},
   "source": [
    "- It is used in representing certain whitespace characters: \"\\t\" is a tab, \"\\n\" is a newline"
   ]
  },
  {
   "cell_type": "markdown",
   "id": "8fb3db92",
   "metadata": {},
   "source": [
    "##### 3. What is the way to include backslash characters in a string?"
   ]
  },
  {
   "cell_type": "markdown",
   "id": "fa487231",
   "metadata": {},
   "source": [
    "##### Answer: \n",
    "-  To include a backslash character itself, we need two backslashes or use the @ verbatim string: \"\\\\Tasks\" or @\"\\Tasks\" ."
   ]
  },
  {
   "cell_type": "markdown",
   "id": "9a768a84",
   "metadata": {},
   "source": [
    "##### 4. The string \"Howl's Moving Castle\" is a correct value. Why isn't the single quote character in the word Howl's not escaped a problem?"
   ]
  },
  {
   "cell_type": "markdown",
   "id": "1fba703d",
   "metadata": {},
   "source": [
    "##### Answer:\n",
    "\n",
    "because here it has used double quotes in sentence"
   ]
  },
  {
   "cell_type": "markdown",
   "id": "86b0123d",
   "metadata": {},
   "source": [
    "##### 5. How do you write a string of newlines if you don&#39;t want to use the n character?"
   ]
  },
  {
   "cell_type": "markdown",
   "id": "6eb48b98",
   "metadata": {},
   "source": [
    "##### Answer:\n",
    "\n",
    "- if we want to print \"hello world\" in two line without using n character, we can write as below\n",
    "\n",
    "print('hello')\n",
    "\n",
    "print('world')"
   ]
  },
  {
   "cell_type": "markdown",
   "id": "4821ddd6",
   "metadata": {},
   "source": [
    "##### 6. What are the values of the given expressions?"
   ]
  },
  {
   "cell_type": "code",
   "execution_count": 8,
   "id": "db249af4",
   "metadata": {},
   "outputs": [
    {
     "data": {
      "text/plain": [
       "'e'"
      ]
     },
     "execution_count": 8,
     "metadata": {},
     "output_type": "execute_result"
    }
   ],
   "source": [
    "'Hello world!'[1]"
   ]
  },
  {
   "cell_type": "code",
   "execution_count": 9,
   "id": "810ed548",
   "metadata": {},
   "outputs": [
    {
     "data": {
      "text/plain": [
       "'Hello'"
      ]
     },
     "execution_count": 9,
     "metadata": {},
     "output_type": "execute_result"
    }
   ],
   "source": [
    "'Hello world!'[0:5]"
   ]
  },
  {
   "cell_type": "code",
   "execution_count": 10,
   "id": "462b26b8",
   "metadata": {},
   "outputs": [
    {
     "data": {
      "text/plain": [
       "'Hello'"
      ]
     },
     "execution_count": 10,
     "metadata": {},
     "output_type": "execute_result"
    }
   ],
   "source": [
    "'Hello world!'[:5]"
   ]
  },
  {
   "cell_type": "code",
   "execution_count": 11,
   "id": "208af731",
   "metadata": {},
   "outputs": [
    {
     "data": {
      "text/plain": [
       "'lo world!'"
      ]
     },
     "execution_count": 11,
     "metadata": {},
     "output_type": "execute_result"
    }
   ],
   "source": [
    "'Hello world!'[3:]"
   ]
  },
  {
   "cell_type": "markdown",
   "id": "a138d044",
   "metadata": {},
   "source": [
    "##### 7. What are the values of the following expressions?"
   ]
  },
  {
   "cell_type": "code",
   "execution_count": 12,
   "id": "c6db3300",
   "metadata": {},
   "outputs": [
    {
     "data": {
      "text/plain": [
       "'HELLO'"
      ]
     },
     "execution_count": 12,
     "metadata": {},
     "output_type": "execute_result"
    }
   ],
   "source": [
    "'Hello'.upper()"
   ]
  },
  {
   "cell_type": "code",
   "execution_count": 13,
   "id": "4d1bee92",
   "metadata": {},
   "outputs": [
    {
     "data": {
      "text/plain": [
       "True"
      ]
     },
     "execution_count": 13,
     "metadata": {},
     "output_type": "execute_result"
    }
   ],
   "source": [
    "'Hello'.upper().isupper()"
   ]
  },
  {
   "cell_type": "code",
   "execution_count": 14,
   "id": "ac325ba0",
   "metadata": {},
   "outputs": [
    {
     "data": {
      "text/plain": [
       "'hello'"
      ]
     },
     "execution_count": 14,
     "metadata": {},
     "output_type": "execute_result"
    }
   ],
   "source": [
    "'Hello'.upper().lower()"
   ]
  },
  {
   "cell_type": "markdown",
   "id": "b78e43e6",
   "metadata": {},
   "source": [
    "##### 8. What are the values of the following expressions?"
   ]
  },
  {
   "cell_type": "code",
   "execution_count": 19,
   "id": "f11ec2cd",
   "metadata": {},
   "outputs": [
    {
     "data": {
      "text/plain": [
       "['Remember,', 'remember,', 'the', 'fifth', 'of', 'July.']"
      ]
     },
     "execution_count": 19,
     "metadata": {},
     "output_type": "execute_result"
    }
   ],
   "source": [
    "'Remember, remember, the fifth of July.'.split()\n"
   ]
  },
  {
   "cell_type": "code",
   "execution_count": 20,
   "id": "260ca434",
   "metadata": {},
   "outputs": [
    {
     "data": {
      "text/plain": [
       "'There-can-only-one.'"
      ]
     },
     "execution_count": 20,
     "metadata": {},
     "output_type": "execute_result"
    }
   ],
   "source": [
    "'-'.join('There can only one.'.split())"
   ]
  },
  {
   "cell_type": "markdown",
   "id": "121b01eb",
   "metadata": {},
   "source": [
    "##### 9. What are the methods for right-justifying, left-justifying, and centering a string?"
   ]
  },
  {
   "cell_type": "markdown",
   "id": "04f673fc",
   "metadata": {},
   "source": [
    "##### Answer:\n",
    "  \n",
    "  These functions respectively left-justify, right-justify and center a string in a field of given width. They return a string that is at least width characters wide, created by padding the string s with the character fillchar (default is a space) until the given width on the right, left or both sides\n",
    "  \n",
    "  \n",
    "- right-justifying : \n",
    "  \n",
    "  Syntax: rjust(len,fillchar)\n",
    "  \n",
    "\n",
    "- left-justifying :\n",
    " \n",
    "  Syntax: ljust(len,fillchar)\n",
    "  \n",
    "  \n",
    "\n",
    "- centering:\n",
    " \n",
    "  Syntax: center(len,fillchar)"
   ]
  },
  {
   "cell_type": "markdown",
   "id": "db0563cd",
   "metadata": {},
   "source": [
    "##### 10. What is the best way to remove whitespace characters from the start or end?"
   ]
  },
  {
   "cell_type": "markdown",
   "id": "28c82f83",
   "metadata": {},
   "source": [
    "##### Answer:\n",
    "\n",
    "by using   .strip() method"
   ]
  },
  {
   "cell_type": "code",
   "execution_count": null,
   "id": "f38b1284",
   "metadata": {},
   "outputs": [],
   "source": []
  }
 ],
 "metadata": {
  "kernelspec": {
   "display_name": "Python 3 (ipykernel)",
   "language": "python",
   "name": "python3"
  },
  "language_info": {
   "codemirror_mode": {
    "name": "ipython",
    "version": 3
   },
   "file_extension": ".py",
   "mimetype": "text/x-python",
   "name": "python",
   "nbconvert_exporter": "python",
   "pygments_lexer": "ipython3",
   "version": "3.9.7"
  }
 },
 "nbformat": 4,
 "nbformat_minor": 5
}
