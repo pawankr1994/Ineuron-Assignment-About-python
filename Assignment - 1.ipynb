{
 "cells": [
  {
   "cell_type": "markdown",
   "id": "8c79bbbe",
   "metadata": {},
   "source": [
    "(1). In the below elements which of them are values or an expression? eg:- values can be\n",
    "     integer or string and expressions will be mathematical operators.\n",
    " \n",
    "*\n",
    "hello\n",
    "-87.8\n",
    "-\n",
    "/\n",
    "+\n",
    "6"
   ]
  },
  {
   "cell_type": "markdown",
   "id": "2491a7c0",
   "metadata": {},
   "source": [
    "Answer:\n",
    "    \n",
    ".* it is a expression and it is a multiplication operator.\n",
    "\n",
    "'hello' it is a value and it comes under string type.\n",
    ".-87.8 it is a value and it comes under floating number type.\n",
    ".- it is a expression and it is a subtraction operator.\n",
    "./ it is a expression and it is a division operator.\n",
    ".+ it is a expression and it is a addition operator.\n",
    ".6 it is a value and it comes under integer type"
   ]
  },
  {
   "cell_type": "markdown",
   "id": "7b0c9a20",
   "metadata": {},
   "source": [
    "(2). What is the difference between string and variable?"
   ]
  },
  {
   "cell_type": "markdown",
   "id": "47f9d6ee",
   "metadata": {},
   "source": [
    "Answer:\n",
    "    \n",
    "String are array of bites repesenting unicodes character, string exist either within single \n",
    "quotes(' ')  or double qoutes(\" \"). string is a one of several type of variable.\n",
    "Example: print( \"hello world\" )\n",
    "    \n",
    "Variables that stores the information in the form of values and to manipulate it if needed.\n",
    "Example: X = 10, here X is a variable that stores the value 10.\n"
   ]
  },
  {
   "cell_type": "markdown",
   "id": "167130b0",
   "metadata": {},
   "source": [
    "(3). Describe three different data types."
   ]
  },
  {
   "cell_type": "code",
   "execution_count": null,
   "id": "8c7ed6c4",
   "metadata": {},
   "outputs": [],
   "source": [
    "Answer:\n",
    "    \n",
    "Numeric types: int, float, complex.\n",
    "Text types: str.\n",
    "Sequence types : list, tuple, range."
   ]
  },
  {
   "cell_type": "markdown",
   "id": "7f3cbf03",
   "metadata": {},
   "source": [
    "(4). What is an expression made up of? What do all expressions do?"
   ]
  },
  {
   "cell_type": "markdown",
   "id": "97e0c1d0",
   "metadata": {},
   "source": [
    "Answer:\n",
    "    \n",
    "An expression is a combination of operators and operands that is interpreted to produce some other value.\n",
    "we have following different type of expression:\n",
    "\n",
    "Arithmetic Expression: An arithmetic expression is a combination of numeric values, operator and                            sometimes parenthesis.\n",
    "                       the operator used in these expressions are arithmetic operators like addition,                        subtraction, multiplication etc.\n",
    "                       +   addition\n",
    "                       -   subtraction\n",
    "                       *   multiplication\n",
    "                       /   division\n",
    "                       //  quotient\n",
    "                       %   remainder\n",
    "                       **  exponentiation\n",
    "Relational Expressions: In these types of expressions, arithmetic expressions are written on both                             sides of relational operator (> , < , >= , <=). Those arithmetic expressions                         are evaluated first, and then compared as per relational operator and produce                         a boolean output in the end. These expressions are also called Boolean                               expressions.\n",
    "Logical Expressions: These are kinds of expressions that result in either True or False. It basically                      specifies one or more conditions. For example, (10 == 9) is a condition if 10 is                      equal to 9. As we know it is not correct, so it will return False. Studying                          logical expressions, we also come across some logical operators which can be                          seen in logical expressions most often. Here are some logical operators in                            Python.\n",
    "                     example:\n",
    "                     and : It returns true if both statements are true otherwise returns false.\n",
    "                           (A and B)\n",
    "                     or  : It returns true if at least one of the statement is true\n",
    "                           (A or B)\n",
    "                     not : It returns true if statement is false\n",
    "                           (not A)\n",
    "Bitwise Expressions: These are the kind of expressions in which computations are performed at bit                          level."
   ]
  },
  {
   "cell_type": "markdown",
   "id": "a0ea1f2d",
   "metadata": {},
   "source": [
    "(5). This assignment statements, like spam = 10. What is the difference between an\n",
    "     expression and a statement?"
   ]
  },
  {
   "cell_type": "markdown",
   "id": "697189ed",
   "metadata": {},
   "source": [
    "Answer:\n",
    "\n",
    "An expression is a combination of operators and operands that is interpreted to produce some other value.\n",
    "a statement is an instruction that a python interpreter can execute.in simple words we can say anything in pyhton is a statement. each line in python script is a statement.\n",
    " example : spam = 10 is an assignment statement."
   ]
  },
  {
   "cell_type": "markdown",
   "id": "8953d50b",
   "metadata": {},
   "source": [
    "(6). After running the following code, what does the variable bacon contain?\n",
    "bacon = 22\n",
    "bacon + 1"
   ]
  },
  {
   "cell_type": "code",
   "execution_count": 1,
   "id": "77fd1452",
   "metadata": {},
   "outputs": [],
   "source": [
    "bacon = 22"
   ]
  },
  {
   "cell_type": "code",
   "execution_count": 2,
   "id": "d860c763",
   "metadata": {},
   "outputs": [
    {
     "data": {
      "text/plain": [
       "23"
      ]
     },
     "execution_count": 2,
     "metadata": {},
     "output_type": "execute_result"
    }
   ],
   "source": [
    "bacon + 1"
   ]
  },
  {
   "cell_type": "code",
   "execution_count": 3,
   "id": "85f8f322",
   "metadata": {},
   "outputs": [
    {
     "data": {
      "text/plain": [
       "22"
      ]
     },
     "execution_count": 3,
     "metadata": {},
     "output_type": "execute_result"
    }
   ],
   "source": [
    "bacon"
   ]
  },
  {
   "cell_type": "markdown",
   "id": "654ec6a3",
   "metadata": {},
   "source": [
    "Answer : variable bacon contain 22"
   ]
  },
  {
   "cell_type": "markdown",
   "id": "38eb1b5f",
   "metadata": {},
   "source": [
    "(7). What should the values of the following two terms be?\n",
    "     spam + spamspam\n",
    "     spam * 3"
   ]
  },
  {
   "cell_type": "markdown",
   "id": "5dd6f46c",
   "metadata": {},
   "source": [
    "Answer:"
   ]
  },
  {
   "cell_type": "code",
   "execution_count": 4,
   "id": "372ab6e4",
   "metadata": {},
   "outputs": [
    {
     "data": {
      "text/plain": [
       "'spamspamspam'"
      ]
     },
     "execution_count": 4,
     "metadata": {},
     "output_type": "execute_result"
    }
   ],
   "source": [
    "'spam' + 'spamspam'"
   ]
  },
  {
   "cell_type": "code",
   "execution_count": 5,
   "id": "b7d76ac8",
   "metadata": {},
   "outputs": [
    {
     "data": {
      "text/plain": [
       "'spamspamspam'"
      ]
     },
     "execution_count": 5,
     "metadata": {},
     "output_type": "execute_result"
    }
   ],
   "source": [
    "'spam' * 3"
   ]
  },
  {
   "cell_type": "markdown",
   "id": "05796668",
   "metadata": {},
   "source": [
    "(8). Why is eggs a valid variable name while 100 is invalid?"
   ]
  },
  {
   "cell_type": "markdown",
   "id": "703cfca2",
   "metadata": {},
   "source": [
    "Answer:\n",
    "\n",
    "because variable names can not begins with number."
   ]
  },
  {
   "cell_type": "markdown",
   "id": "136063e3",
   "metadata": {},
   "source": [
    "(9). What three functions can be used to get the integer, floating-point number, or string\n",
    "   version of a value?"
   ]
  },
  {
   "cell_type": "markdown",
   "id": "fd1c99a1",
   "metadata": {},
   "source": [
    "Answer: int: is used for getting integer value,\n",
    "        float: is used for getting floating point number.\n",
    "        str: is used for getting string value.\n",
    "        "
   ]
  },
  {
   "cell_type": "code",
   "execution_count": null,
   "id": "6c121a76",
   "metadata": {},
   "outputs": [],
   "source": [
    "(10). Why does this expression cause an error? How can you fix it?\n",
    "   \n",
    "     'I have eaten' + 99 + 'burritos.'"
   ]
  },
  {
   "cell_type": "markdown",
   "id": "3e8572b6",
   "metadata": {},
   "source": [
    "Answer:"
   ]
  },
  {
   "cell_type": "code",
   "execution_count": 6,
   "id": "491394d0",
   "metadata": {},
   "outputs": [
    {
     "ename": "TypeError",
     "evalue": "can only concatenate str (not \"int\") to str",
     "output_type": "error",
     "traceback": [
      "\u001b[1;31m---------------------------------------------------------------------------\u001b[0m",
      "\u001b[1;31mTypeError\u001b[0m                                 Traceback (most recent call last)",
      "\u001b[1;32m~\\AppData\\Local\\Temp/ipykernel_6304/3116421743.py\u001b[0m in \u001b[0;36m<module>\u001b[1;34m\u001b[0m\n\u001b[1;32m----> 1\u001b[1;33m \u001b[1;34m'I have eaten'\u001b[0m \u001b[1;33m+\u001b[0m \u001b[1;36m99\u001b[0m \u001b[1;33m+\u001b[0m \u001b[1;34m'burritos.'\u001b[0m\u001b[1;33m\u001b[0m\u001b[1;33m\u001b[0m\u001b[0m\n\u001b[0m",
      "\u001b[1;31mTypeError\u001b[0m: can only concatenate str (not \"int\") to str"
     ]
    }
   ],
   "source": [
    "'I have eaten' + 99 + 'burritos.'"
   ]
  },
  {
   "cell_type": "code",
   "execution_count": 8,
   "id": "303bba4b",
   "metadata": {},
   "outputs": [
    {
     "data": {
      "text/plain": [
       "'I have eaten 99 burritos.'"
      ]
     },
     "execution_count": 8,
     "metadata": {},
     "output_type": "execute_result"
    }
   ],
   "source": [
    "'I have eaten' + ' 99 ' + 'burritos.'"
   ]
  },
  {
   "cell_type": "code",
   "execution_count": null,
   "id": "027737fa",
   "metadata": {},
   "outputs": [],
   "source": []
  }
 ],
 "metadata": {
  "kernelspec": {
   "display_name": "Python 3 (ipykernel)",
   "language": "python",
   "name": "python3"
  },
  "language_info": {
   "codemirror_mode": {
    "name": "ipython",
    "version": 3
   },
   "file_extension": ".py",
   "mimetype": "text/x-python",
   "name": "python",
   "nbconvert_exporter": "python",
   "pygments_lexer": "ipython3",
   "version": "3.9.7"
  }
 },
 "nbformat": 4,
 "nbformat_minor": 5
}
