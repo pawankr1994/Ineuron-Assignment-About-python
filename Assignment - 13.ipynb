{
 "cells": [
  {
   "cell_type": "markdown",
   "id": "f457ee44",
   "metadata": {},
   "source": [
    "#### 1. What advantages do Excel spreadsheets have over CSV spreadsheets?"
   ]
  },
  {
   "cell_type": "markdown",
   "id": "4766c9d3",
   "metadata": {},
   "source": [
    "##### Answer: \n",
    "\n",
    "Excel spreadsheets offer several advantages over CSV (Comma-Separated Values) spreadsheets:\n",
    "\n",
    "Formatting: Excel allows you to apply various formatting options, such as font styles, colors, borders, cell merging, and conditional formatting. This makes it easier to present and analyze data in a visually appealing and organized manner. CSV files, on the other hand, are plain text files and do not support any formatting options.\n",
    "\n",
    "Formulas and Functions: Excel provides a wide range of built-in formulas and functions that enable you to perform calculations, manipulate data, and create complex calculations. These formulas and functions can be used across multiple cells and sheets, making it a powerful tool for data analysis and manipulation. CSV files do not support formulas or functions, as they only store plain text values.\n",
    "\n",
    "Charts and Graphs: Excel allows you to create various types of charts and graphs based on your data. This visual representation can help you better understand trends, patterns, and relationships within the data. CSV files do not have the capability to create charts or graphs.\n",
    "\n",
    "Data Validation: Excel provides data validation features that allow you to define rules and restrictions for the data entered into specific cells. This helps ensure data integrity and consistency by enforcing predefined criteria. CSV files do not have built-in data validation capabilities.\n",
    "\n",
    "Multiple Sheets and Workbooks: Excel allows you to work with multiple sheets within a single workbook and even across multiple workbooks. This makes it convenient to organize and analyze large sets of data, create interrelated calculations, and build complex models. CSV files represent a single table of data and do not have the concept of sheets or workbooks.\n",
    "\n",
    "Data Manipulation: Excel offers various data manipulation features, such as sorting, filtering, and advanced data analysis tools like pivot tables and data tables. These features make it easier to explore and summarize data efficiently. CSV files only store data and do not provide built-in tools for data manipulation.\n",
    "\n",
    "Macros and Automation: Excel supports Visual Basic for Applications (VBA), which allows you to create macros and automate repetitive tasks. This can significantly increase productivity and efficiency in working with Excel data. CSV files do not support macros or automation.\n",
    "\n",
    "While CSV files have their own advantages, such as simplicity and compatibility with a wide range of software applications, Excel provides a more comprehensive set of features and functionalities for data analysis, presentation, and manipulation."
   ]
  },
  {
   "cell_type": "markdown",
   "id": "f31beb8a",
   "metadata": {},
   "source": [
    "#### 2.What do you pass to csv.reader() and csv.writer() to create reader and writer objects?"
   ]
  },
  {
   "cell_type": "markdown",
   "id": "a29f429b",
   "metadata": {},
   "source": [
    "##### Answer:\n",
    "\n",
    "To create reader and writer objects in the csv module, you need to pass a file object as an argument to the csv.reader() and csv.writer() functions. "
   ]
  },
  {
   "cell_type": "code",
   "execution_count": null,
   "id": "b622502e",
   "metadata": {},
   "outputs": [],
   "source": [
    "### Creating a reader object\n",
    "\n",
    "import csv\n",
    "\n",
    "# Opening a CSV file in read mode\n",
    "csv_file = open('file.csv', 'r')\n",
    "\n",
    "# Creating a reader object\n",
    "csv_reader = csv.reader(csv_file)\n",
    "\n",
    "\n",
    "\n",
    "### Creating a writer object:\n",
    "\n",
    "\n",
    "# Opening a CSV file in write mode\n",
    "csv_file = open('file.csv', 'w')\n",
    "\n",
    "# Creating a writer object\n",
    "csv_writer = csv.writer(csv_file)\n",
    "\n",
    "\n",
    "csv_file.close()\n"
   ]
  },
  {
   "cell_type": "markdown",
   "id": "cf8d228d",
   "metadata": {},
   "source": [
    "#### 3. What modes do File objects for reader and writer objects need to be opened in?"
   ]
  },
  {
   "cell_type": "markdown",
   "id": "d0ec9d4e",
   "metadata": {},
   "source": [
    "##### Answer: \n",
    "\n",
    "For reader and writer objects in the csv module, you need to open the file objects with specific modes. Here are the appropriate modes for file objects used with csv.reader() and csv.writer()"
   ]
  },
  {
   "cell_type": "markdown",
   "id": "60e210dc",
   "metadata": {},
   "source": [
    "##### Example"
   ]
  },
  {
   "cell_type": "code",
   "execution_count": null,
   "id": "ecfd2d59",
   "metadata": {},
   "outputs": [],
   "source": [
    "import csv\n",
    "\n",
    "# Opening a CSV file in read mode\n",
    "csv_file = open('file.csv', 'r')\n",
    "\n",
    "# Creating a reader object\n",
    "csv_reader = csv.reader(csv_file)\n",
    "\n",
    "# Reading data from the CSV file using the reader object\n",
    "\n",
    "# Closing the file object\n",
    "csv_file.close()\n",
    "\n",
    "\n",
    "\n",
    "\n",
    "\n",
    "# Opening a CSV file in write mode\n",
    "csv_file = open('file.csv', 'w')\n",
    "\n",
    "# Creating a writer object\n",
    "csv_writer = csv.writer(csv_file)\n",
    "\n",
    "# Writing data to the CSV file using the writer object\n",
    "\n",
    "# Closing the file object\n",
    "csv_file.close()\n"
   ]
  },
  {
   "cell_type": "markdown",
   "id": "37de8528",
   "metadata": {},
   "source": [
    "#### 4. What method takes a list argument and writes it to a CSV file?"
   ]
  },
  {
   "cell_type": "markdown",
   "id": "86fa83ed",
   "metadata": {},
   "source": [
    "#### Answer:\n",
    "The writerow() method is used to write a list of values to a CSV file using a writer object in the csv module. "
   ]
  },
  {
   "cell_type": "code",
   "execution_count": 1,
   "id": "545a408c",
   "metadata": {},
   "outputs": [],
   "source": [
    "import csv\n",
    "\n",
    "# Opening a CSV file in write mode\n",
    "csv_file = open('file.csv', 'w')\n",
    "\n",
    "# Creating a writer object\n",
    "csv_writer = csv.writer(csv_file)\n",
    "\n",
    "# Writing a list of values to the CSV file\n",
    "data = ['John', 'Doe', 'john.doe@example.com']\n",
    "csv_writer.writerow(data)\n",
    "\n",
    "# Closing the file object\n",
    "csv_file.close()\n",
    "\n",
    "\n",
    "\n",
    "After executing the code, the CSV file will contain a single row with the values 'John', 'Doe', and 'john.doe@example.com' in separate columns.\n"
   ]
  },
  {
   "cell_type": "markdown",
   "id": "7657af27",
   "metadata": {},
   "source": [
    "#### 5. What do the keyword arguments delimiter and line terminator do?"
   ]
  },
  {
   "cell_type": "markdown",
   "id": "4346997d",
   "metadata": {},
   "source": [
    "##### Answer:\n",
    "\n",
    "delimiter:\n",
    "\n",
    "The delimiter argument specifies the character or string used to separate fields (values) within a single row of the CSV file. By default, the delimiter is a comma (,). However, you can specify a different delimiter if needed, such as a tab (\\t) or a semicolon (;).\n",
    "\n",
    "\n",
    "lineterminator:\n",
    "\n",
    "The lineterminator argument specifies the character or string used to terminate (end) each line in the CSV file. By default, the line terminator is the newline character (\\n). However, you can specify a different line terminator if desired."
   ]
  },
  {
   "cell_type": "markdown",
   "id": "5f736959",
   "metadata": {},
   "source": [
    "#### 6. What function takes a string of JSON data and returns a Python data structure?"
   ]
  },
  {
   "cell_type": "markdown",
   "id": "5b87f27a",
   "metadata": {},
   "source": [
    "##### Answer:\n",
    "\n",
    "The function that takes a string of JSON data and returns a Python data structure is json.loads(). It is part of the built-in json module in Python and stands for \"load string.\""
   ]
  },
  {
   "cell_type": "code",
   "execution_count": 2,
   "id": "7a5f331a",
   "metadata": {},
   "outputs": [
    {
     "name": "stdout",
     "output_type": "stream",
     "text": [
      "John\n",
      "30\n",
      "New York\n"
     ]
    }
   ],
   "source": [
    "import json\n",
    "\n",
    "json_string = '{\"name\": \"John\", \"age\": 30, \"city\": \"New York\"}'\n",
    "\n",
    "# Parsing the JSON string into a Python data structure\n",
    "data = json.loads(json_string)\n",
    "\n",
    "# Accessing the values in the Python data structure\n",
    "print(data[\"name\"])  \n",
    "print(data[\"age\"]) \n",
    "print(data[\"city\"])"
   ]
  },
  {
   "cell_type": "markdown",
   "id": "c6e02678",
   "metadata": {},
   "source": [
    "#### 7. What function takes a Python data structure and returns a string of JSON data?"
   ]
  },
  {
   "cell_type": "markdown",
   "id": "59fe4c5d",
   "metadata": {},
   "source": [
    "##### Answer:\n",
    "The function that takes a Python data structure and returns a string of JSON data is json.dumps(). It is part of the built-in json module in Python and stands for \"dump to string.\""
   ]
  },
  {
   "cell_type": "code",
   "execution_count": 3,
   "id": "1375706f",
   "metadata": {},
   "outputs": [
    {
     "name": "stdout",
     "output_type": "stream",
     "text": [
      "{\"name\": \"John\", \"age\": 30, \"city\": \"New York\"}\n"
     ]
    }
   ],
   "source": [
    "import json\n",
    "\n",
    "data = {\n",
    "    \"name\": \"John\",\n",
    "    \"age\": 30,\n",
    "    \"city\": \"New York\"\n",
    "}\n",
    "\n",
    "# Converting the Python data structure to a JSON string\n",
    "json_string = json.dumps(data)\n",
    "\n",
    "print(json_string)\n"
   ]
  },
  {
   "cell_type": "code",
   "execution_count": null,
   "id": "e7197e04",
   "metadata": {},
   "outputs": [],
   "source": []
  }
 ],
 "metadata": {
  "kernelspec": {
   "display_name": "Python 3 (ipykernel)",
   "language": "python",
   "name": "python3"
  },
  "language_info": {
   "codemirror_mode": {
    "name": "ipython",
    "version": 3
   },
   "file_extension": ".py",
   "mimetype": "text/x-python",
   "name": "python",
   "nbconvert_exporter": "python",
   "pygments_lexer": "ipython3",
   "version": "3.9.7"
  }
 },
 "nbformat": 4,
 "nbformat_minor": 5
}
