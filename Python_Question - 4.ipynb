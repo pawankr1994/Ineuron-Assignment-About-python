{
 "cells": [
  {
   "attachments": {},
   "cell_type": "markdown",
   "id": "e8927102",
   "metadata": {},
   "source": [
    "#####  Question 4 -\n",
    "\n",
    "Write a program to download the data from the link given below and then read the data and convert the into\n",
    "the proper structure and return it as a CSV file.\n",
    "\n",
    "Link - https://data.nasa.gov/resource/y77d-th95.json\n",
    "\n",
    "Note - Write code comments wherever needed for code understanding.\n",
    "\n",
    "Sample data:\n",
    "\n",
    "\n",
    "Excepcted Output Data Attributes\n",
    "\n",
    "● Name of Earth Meteorite - string id - ID of Earth\n",
    "\n",
    "● Meteorite - int nametype - string recclass - string\n",
    "\n",
    "● mass - Mass of Earth Meteorite - float year - Year at which Earth\n",
    "\n",
    "● Meteorite was hit - datetime format reclat - float recclong - float\n",
    "\n",
    "● point coordinates - list of int"
   ]
  },
  {
   "cell_type": "code",
   "execution_count": 17,
   "id": "ac0cb7ef",
   "metadata": {},
   "outputs": [
    {
     "name": "stdout",
     "output_type": "stream",
     "text": [
      "Data successfully saved as CSV.\n"
     ]
    }
   ],
   "source": [
    "import requests\n",
    "import pandas as pd\n",
    "\n",
    "def download_data(url):\n",
    "    try:\n",
    "        response = requests.get(url)\n",
    "        response.raise_for_status()  # Raise an exception for unsuccessful HTTP responses\n",
    "        data = response.json()\n",
    "        return data\n",
    "    except requests.exceptions.RequestException as e:\n",
    "        print(\"An error occurred while downloading the data:\", str(e))\n",
    "        return None\n",
    "\n",
    "def process_data(data):\n",
    "    if data is not None:\n",
    "        try:\n",
    "            df = pd.json_normalize(data)\n",
    "            return df\n",
    "        except Exception as e:\n",
    "            print(\"An error occurred while processing the data:\", str(e))\n",
    "            return None\n",
    "    else:\n",
    "        return None\n",
    "\n",
    "def save_as_csv(dataframe, output_file):\n",
    "    if dataframe is not None:\n",
    "        try:\n",
    "            dataframe.to_csv(output_file, index=False)\n",
    "            print(\"Data successfully saved as CSV.\")\n",
    "        except Exception as e:\n",
    "            print(\"An error occurred while saving data as CSV:\", str(e))\n",
    "    else:\n",
    "        print(\"No data to save.\")\n",
    "\n",
    "# Example usage\n",
    "url = \"https://data.nasa.gov/resource/y77d-th95.json\"\n",
    "output_file = \"meteorite_data.csv\"\n",
    "\n",
    "# Download the data from the provided link\n",
    "data = download_data(url)\n",
    "\n",
    "# Process the data\n",
    "processed_data = process_data(data)\n",
    "\n",
    "# Save the processed data as CSV\n",
    "save_as_csv(processed_data, output_file)\n"
   ]
  },
  {
   "cell_type": "code",
   "execution_count": null,
   "id": "05412b73",
   "metadata": {},
   "outputs": [],
   "source": []
  },
  {
   "cell_type": "code",
   "execution_count": null,
   "id": "d156f67d",
   "metadata": {},
   "outputs": [],
   "source": []
  },
  {
   "cell_type": "code",
   "execution_count": null,
   "id": "9c05dcac",
   "metadata": {},
   "outputs": [],
   "source": []
  }
 ],
 "metadata": {
  "kernelspec": {
   "display_name": "Python 3 (ipykernel)",
   "language": "python",
   "name": "python3"
  },
  "language_info": {
   "codemirror_mode": {
    "name": "ipython",
    "version": 3
   },
   "file_extension": ".py",
   "mimetype": "text/x-python",
   "name": "python",
   "nbconvert_exporter": "python",
   "pygments_lexer": "ipython3",
   "version": "3.9.7"
  }
 },
 "nbformat": 4,
 "nbformat_minor": 5
}
