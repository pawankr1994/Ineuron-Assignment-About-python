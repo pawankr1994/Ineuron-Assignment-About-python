{
 "cells": [
  {
   "cell_type": "markdown",
   "id": "77c2afb0",
   "metadata": {},
   "source": [
    "#### 1. Create an assert statement that throws an AssertionError if the variable spam is a negative integer."
   ]
  },
  {
   "cell_type": "markdown",
   "id": "1d7c3326",
   "metadata": {},
   "source": [
    "##### Answer:\n",
    "\n",
    "Here's an example of an assert statement in Python that will raise an AssertionError if the variable spam is a negative intege"
   ]
  },
  {
   "cell_type": "code",
   "execution_count": 3,
   "id": "8b5cb336",
   "metadata": {},
   "outputs": [
    {
     "name": "stdout",
     "output_type": "stream",
     "text": [
      "Enter a non-negative integer: -5\n"
     ]
    },
    {
     "ename": "AssertionError",
     "evalue": "Error: spam should be a non-negative integer",
     "output_type": "error",
     "traceback": [
      "\u001b[1;31m---------------------------------------------------------------------------\u001b[0m",
      "\u001b[1;31mAssertionError\u001b[0m                            Traceback (most recent call last)",
      "\u001b[1;32m~\\AppData\\Local\\Temp/ipykernel_3704/206237741.py\u001b[0m in \u001b[0;36m<module>\u001b[1;34m\u001b[0m\n\u001b[0;32m      1\u001b[0m \u001b[0mspam\u001b[0m \u001b[1;33m=\u001b[0m \u001b[0mint\u001b[0m\u001b[1;33m(\u001b[0m\u001b[0minput\u001b[0m\u001b[1;33m(\u001b[0m\u001b[1;34m\"Enter a non-negative integer: \"\u001b[0m\u001b[1;33m)\u001b[0m\u001b[1;33m)\u001b[0m  \u001b[1;31m# get user input and convert to integer\u001b[0m\u001b[1;33m\u001b[0m\u001b[1;33m\u001b[0m\u001b[0m\n\u001b[0;32m      2\u001b[0m \u001b[1;33m\u001b[0m\u001b[0m\n\u001b[1;32m----> 3\u001b[1;33m \u001b[1;32massert\u001b[0m \u001b[0mspam\u001b[0m \u001b[1;33m>=\u001b[0m \u001b[1;36m0\u001b[0m\u001b[1;33m,\u001b[0m \u001b[1;34m\"Error: spam should be a non-negative integer\"\u001b[0m  \u001b[1;31m# check if spam is non-negative\u001b[0m\u001b[1;33m\u001b[0m\u001b[1;33m\u001b[0m\u001b[0m\n\u001b[0m\u001b[0;32m      4\u001b[0m \u001b[1;33m\u001b[0m\u001b[0m\n\u001b[0;32m      5\u001b[0m \u001b[0mprint\u001b[0m\u001b[1;33m(\u001b[0m\u001b[1;34m\"The value of spam is:\"\u001b[0m\u001b[1;33m,\u001b[0m \u001b[0mspam\u001b[0m\u001b[1;33m)\u001b[0m  \u001b[1;31m# if spam is non-negative, print its value\u001b[0m\u001b[1;33m\u001b[0m\u001b[1;33m\u001b[0m\u001b[0m\n",
      "\u001b[1;31mAssertionError\u001b[0m: Error: spam should be a non-negative integer"
     ]
    }
   ],
   "source": [
    "spam = int(input(\"Enter a non-negative integer: \"))  # get user input and convert to integer\n",
    "\n",
    "assert spam >= 0, \"Error: spam should be a non-negative integer\"  # check if spam is non-negative\n",
    "\n",
    "print(\"The value of spam is:\", spam)  # if spam is non-negative, print its value\n"
   ]
  },
  {
   "cell_type": "markdown",
   "id": "0fbcd6ab",
   "metadata": {},
   "source": [
    "#### 2. Write an assert statement that triggers an AssertionError if the variables eggs and bacon contain strings that are the same as each other, even if their cases are different (that is, 'hello' and 'hello' are considered the same, and 'goodbye' and 'GOODbye' are also considered the same)."
   ]
  },
  {
   "cell_type": "markdown",
   "id": "2fcc529b",
   "metadata": {},
   "source": [
    "##### Answer:\n",
    "\n",
    "Here's an assert statement that triggers an AssertionError if the variables eggs and bacon contain strings that are the same as each other, even if their cases are different:"
   ]
  },
  {
   "cell_type": "code",
   "execution_count": 7,
   "id": "e7b64fcf",
   "metadata": {},
   "outputs": [
    {
     "name": "stdout",
     "output_type": "stream",
     "text": [
      "eggs and bacon are different (case-insensitive)\n"
     ]
    }
   ],
   "source": [
    "eggs = \"HELLO\"\n",
    "bacon = \"good bye\"\n",
    "\n",
    "assert eggs.lower() != bacon.lower(), \"eggs and bacon cannot be the same (case-insensitive)\"\n",
    "\n",
    "print(\"eggs and bacon are different (case-insensitive)\")\n"
   ]
  },
  {
   "cell_type": "markdown",
   "id": "f1287445",
   "metadata": {},
   "source": [
    "#### 3. Create an assert statement that throws an AssertionError every time."
   ]
  },
  {
   "cell_type": "markdown",
   "id": "0291f238",
   "metadata": {},
   "source": [
    "##### Answer:\n",
    "This assert statement asserts that the length of the string x is less than 5. However, we know that the length of the string is actually 13, which is not less than 5. Therefore, this assert statement will always fail and raise an AssertionError with the message \"The length of x must be less than 5\""
   ]
  },
  {
   "cell_type": "code",
   "execution_count": 8,
   "id": "16344e1f",
   "metadata": {},
   "outputs": [
    {
     "ename": "AssertionError",
     "evalue": "The length of x must be less than 5",
     "output_type": "error",
     "traceback": [
      "\u001b[1;31m---------------------------------------------------------------------------\u001b[0m",
      "\u001b[1;31mAssertionError\u001b[0m                            Traceback (most recent call last)",
      "\u001b[1;32m~\\AppData\\Local\\Temp/ipykernel_3704/519393001.py\u001b[0m in \u001b[0;36m<module>\u001b[1;34m\u001b[0m\n\u001b[0;32m      1\u001b[0m \u001b[0mx\u001b[0m \u001b[1;33m=\u001b[0m \u001b[1;34m\"Hello, world!\"\u001b[0m\u001b[1;33m\u001b[0m\u001b[1;33m\u001b[0m\u001b[0m\n\u001b[1;32m----> 2\u001b[1;33m \u001b[1;32massert\u001b[0m \u001b[0mlen\u001b[0m\u001b[1;33m(\u001b[0m\u001b[0mx\u001b[0m\u001b[1;33m)\u001b[0m \u001b[1;33m<\u001b[0m \u001b[1;36m5\u001b[0m\u001b[1;33m,\u001b[0m \u001b[1;34m\"The length of x must be less than 5\"\u001b[0m\u001b[1;33m\u001b[0m\u001b[1;33m\u001b[0m\u001b[0m\n\u001b[0m",
      "\u001b[1;31mAssertionError\u001b[0m: The length of x must be less than 5"
     ]
    }
   ],
   "source": [
    "x = \"Hello, world!\"\n",
    "assert len(x) < 5, \"The length of x must be less than 5\"\n"
   ]
  },
  {
   "cell_type": "markdown",
   "id": "c5f8d83a",
   "metadata": {},
   "source": [
    "#### 4. What are the two lines that must be present in your software in order to call logging.debug()?"
   ]
  },
  {
   "cell_type": "markdown",
   "id": "41f77014",
   "metadata": {},
   "source": [
    "##### Answer:\n",
    "In order to call logging.debug() in software, you must have the following two lines present:"
   ]
  },
  {
   "cell_type": "code",
   "execution_count": 9,
   "id": "8d67b31e",
   "metadata": {},
   "outputs": [],
   "source": [
    "import logging\n",
    "logging.basicConfig(level=logging.DEBUG)\n"
   ]
  },
  {
   "cell_type": "markdown",
   "id": "0e7fe85e",
   "metadata": {},
   "source": [
    "#### 5. What are the two lines that your program must have in order to have logging.debug() send a logging message to a file named programLog.txt?"
   ]
  },
  {
   "cell_type": "markdown",
   "id": "26365f03",
   "metadata": {},
   "source": [
    "##### Answer:\n",
    "\n",
    "To have logging.debug() send a logging message to a file named programLog.txt, your program must have the following two lines present:"
   ]
  },
  {
   "cell_type": "code",
   "execution_count": 10,
   "id": "efb96bbd",
   "metadata": {},
   "outputs": [],
   "source": [
    "import logging\n",
    "\n",
    "logging.basicConfig(filename='programLog.txt', level=logging.DEBUG)\n"
   ]
  },
  {
   "cell_type": "markdown",
   "id": "d1b07889",
   "metadata": {},
   "source": [
    "#### 6. What are the five levels of logging?"
   ]
  },
  {
   "cell_type": "markdown",
   "id": "4c2fdb51",
   "metadata": {},
   "source": [
    "##### Answer:\n",
    "\n",
    "The five levels of logging, in increasing order of severity, are:\n",
    "\n",
    "DEBUG: Detailed information, typically of interest only when diagnosing problems.\n",
    "\n",
    "INFO: Confirmation that things are working as expected.\n",
    "\n",
    "WARNING: An indication that something unexpected happened or indicative of some problem in the near future (e.g., ‘disk space low’). The software is still working as expected.\n",
    "\n",
    "ERROR: Due to a more serious problem, the software has not been able to perform some function.\n",
    "\n",
    "CRITICAL: A very serious error, indicating that the program itself may be unable to continue running.\n",
    "\n",
    "These levels are used to categorize log messages according to their severity and importance. When you log a message, you specify the level of the message, and the logging system decides whether or not to actually log the message based on its level and the current logging configuration."
   ]
  },
  {
   "cell_type": "markdown",
   "id": "9c00272f",
   "metadata": {},
   "source": [
    "#### 7. What line of code would you add to your software to disable all logging messages?"
   ]
  },
  {
   "cell_type": "markdown",
   "id": "5baa230b",
   "metadata": {},
   "source": [
    "##### Answer:\n",
    "\n",
    "To disable all logging messages in software is"
   ]
  },
  {
   "cell_type": "code",
   "execution_count": 11,
   "id": "0f2050b3",
   "metadata": {},
   "outputs": [],
   "source": [
    "logging.disable(logging.CRITICAL)\n"
   ]
  },
  {
   "cell_type": "markdown",
   "id": "e32d5009",
   "metadata": {},
   "source": [
    "#### 8.Why is using logging messages better than using print() to display the same message?"
   ]
  },
  {
   "cell_type": "markdown",
   "id": "cbbafe8c",
   "metadata": {},
   "source": [
    "##### Answer:\n",
    "Flexibility: With logging, you have more control over where and how messages are displayed. You can configure the logging system to write messages to a file, send them to a remote server, or display them on the console, among other options. This gives you much more flexibility in how you manage and analyze log messages.\n",
    "\n",
    "Granularity: With logging, you can specify the severity level of each message, which allows you to categorize messages according to their importance and filter them accordingly. This can help you focus on the most important issues when troubleshooting problems.\n",
    "\n",
    "Efficiency: Logging can be more efficient than using print(), especially in larger software systems. This is because the logging system is designed to be optimized for performance and scalability, and can handle large volumes of messages efficiently.\n",
    "\n"
   ]
  },
  {
   "cell_type": "markdown",
   "id": "4ffad121",
   "metadata": {},
   "source": [
    "#### 9. What are the differences between the Step Over, Step In, and Step Out buttons in the debugger?"
   ]
  },
  {
   "cell_type": "markdown",
   "id": "e31379a5",
   "metadata": {},
   "source": [
    "##### Answer:\n",
    "\n",
    "The Step Over, Step In, and Step Out buttons are common debugging tools found in most modern integrated development environments (IDEs). Here are the differences between them:\n",
    "\n",
    "Step Over: This button tells the debugger to execute the current line of code and then move to the next line of code. If the current line of code contains a function call, the function is executed, but the debugger does not step into the function. This is useful for quickly stepping through a block of code without getting bogged down in the details of function calls.\n",
    "\n",
    "Step In: This button tells the debugger to step into the current line of code, even if it contains a function call. If the current line of code contains a function call, the debugger will move into the function and begin executing the code inside the function. This is useful for debugging a function or a block of code in more detail.\n",
    "\n",
    "Step Out: This button tells the debugger to step out of the current function and return to the calling function. If the current line of code is inside a function, the debugger will continue executing the code in the function until it reaches the end of the function, and then return to the calling function. This is useful for quickly getting back to the higher-level code and continuing the debugging process from there."
   ]
  },
  {
   "cell_type": "markdown",
   "id": "4d37d4a9",
   "metadata": {},
   "source": [
    "#### 10.After you click Continue, when will the debugger stop ?"
   ]
  },
  {
   "cell_type": "markdown",
   "id": "718d28e3",
   "metadata": {},
   "source": [
    "##### Answer:\n",
    "When you click the Continue button in a debugger, it instructs the debugger to resume the program execution and continue running the code without any further intervention. The debugger will not stop until it encounters a breakpoint or reaches the end of the program"
   ]
  },
  {
   "cell_type": "markdown",
   "id": "ca739b10",
   "metadata": {},
   "source": [
    "#### 11. What is the concept of a breakpoint?"
   ]
  },
  {
   "cell_type": "markdown",
   "id": "e346e3cb",
   "metadata": {},
   "source": [
    "##### Answer:\n",
    "A breakpoint is a designated point in the code where a debugger will pause the execution of a program to allow a developer to inspect its state. It is a debugging tool that allows developers to examine a program's execution at a specific point in time and to analyze the program's behavior.\n",
    "\n",
    "A breakpoint can be set on a specific line of code, on a function call, or on an event trigger. Once the breakpoint is set, the debugger will pause the program execution when it reaches that line of code or event, allowing the developer to inspect the program's state, including the values of variables and data structures, the call stack, and other relevant information.\n",
    "\n",
    "Breakpoints are essential for debugging complex programs, as they allow developers to isolate and analyze specific sections of code, find errors, and test the program's behavior under different conditions. By setting breakpoints, developers can also step through the code line by line, making it easier to understand how the program works and identify any issues that may arise."
   ]
  },
  {
   "cell_type": "code",
   "execution_count": null,
   "id": "3135a370",
   "metadata": {},
   "outputs": [],
   "source": []
  }
 ],
 "metadata": {
  "kernelspec": {
   "display_name": "Python 3 (ipykernel)",
   "language": "python",
   "name": "python3"
  },
  "language_info": {
   "codemirror_mode": {
    "name": "ipython",
    "version": 3
   },
   "file_extension": ".py",
   "mimetype": "text/x-python",
   "name": "python",
   "nbconvert_exporter": "python",
   "pygments_lexer": "ipython3",
   "version": "3.9.7"
  }
 },
 "nbformat": 4,
 "nbformat_minor": 5
}
