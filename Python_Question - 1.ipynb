{
 "cells": [
  {
   "cell_type": "markdown",
   "id": "44bf4abc",
   "metadata": {},
   "source": [
    "##### Question 1: -\n",
    "Write a program that takes a string as input, and counts the frequency of each word in the string, there might be repeated characters in the string.\n",
    "Your task is to find the highest frequency and returns the length of the\n",
    "highest-frequency word.\n",
    "\n",
    "Note - You have to write at least 2 additional test cases in which your program will run successfully and provide\n",
    "an explanation for the same.\n",
    "\n",
    "Example input - string = “write write write all the number from from from 1 to 100”\n",
    "\n",
    "Example output - 5\n",
    "\n",
    "Explanation - From the given string we can note that the most frequent words are “write” and “from” and the maximum value of both the values is “write” and its corresponding length is 5\n",
    "\n"
   ]
  },
  {
   "cell_type": "code",
   "execution_count": 1,
   "id": "f2d2cc36",
   "metadata": {},
   "outputs": [],
   "source": [
    "def find_highest_frequency_length(string):\n",
    "    # Spliting the string into individual words\n",
    "    words = string.split()\n",
    "\n",
    "    # Creating a dictionary to store the frequency of each word\n",
    "    word_frequency = {}\n",
    "    for word in words:\n",
    "        if word in word_frequency:\n",
    "            word_frequency[word] += 1\n",
    "        else:\n",
    "            word_frequency[word] = 1\n",
    "\n",
    "    # Finding the word with the highest frequency\n",
    "    max_frequency = 0\n",
    "    max_length = 0\n",
    "    for word, frequency in word_frequency.items():\n",
    "        if frequency > max_frequency:\n",
    "            max_frequency = frequency\n",
    "            max_length = len(word)\n",
    "\n",
    "    return max_length\n",
    "\n"
   ]
  },
  {
   "cell_type": "code",
   "execution_count": 2,
   "id": "e2ed11cb",
   "metadata": {},
   "outputs": [
    {
     "name": "stdout",
     "output_type": "stream",
     "text": [
      "5\n"
     ]
    }
   ],
   "source": [
    "\n",
    "string1 = \"write write write all the number from from from 1 to 100\"\n",
    "print(find_highest_frequency_length(string1))\n"
   ]
  },
  {
   "cell_type": "code",
   "execution_count": 3,
   "id": "a6553ec1",
   "metadata": {},
   "outputs": [
    {
     "name": "stdout",
     "output_type": "stream",
     "text": [
      "6\n"
     ]
    }
   ],
   "source": [
    "\n",
    "string3 = \"apple apple apple banana banana banana cherry cherry cherry cherry cherry\"\n",
    "print(find_highest_frequency_length(string3)) \n"
   ]
  },
  {
   "cell_type": "code",
   "execution_count": null,
   "id": "cc4908c3",
   "metadata": {},
   "outputs": [],
   "source": []
  }
 ],
 "metadata": {
  "kernelspec": {
   "display_name": "Python 3 (ipykernel)",
   "language": "python",
   "name": "python3"
  },
  "language_info": {
   "codemirror_mode": {
    "name": "ipython",
    "version": 3
   },
   "file_extension": ".py",
   "mimetype": "text/x-python",
   "name": "python",
   "nbconvert_exporter": "python",
   "pygments_lexer": "ipython3",
   "version": "3.9.7"
  }
 },
 "nbformat": 4,
 "nbformat_minor": 5
}
